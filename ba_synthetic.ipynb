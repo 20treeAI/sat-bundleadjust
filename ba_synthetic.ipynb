{
 "cells": [
  {
   "cell_type": "code",
   "execution_count": 238,
   "metadata": {},
   "outputs": [
    {
     "name": "stdout",
     "output_type": "stream",
     "text": [
      "The autoreload extension is already loaded. To reload it, use:\n",
      "  %reload_ext autoreload\n"
     ]
    }
   ],
   "source": [
    "import sys\n",
    "import os\n",
    "\n",
    "# Standard modules used through the notebook \n",
    "import numpy as np\n",
    "import matplotlib.pyplot as plt\n",
    "\n",
    "from IS18 import utils\n",
    "from bundle_adjust import ba_utils\n",
    "from bundle_adjust import ba_core\n",
    "import rpcm\n",
    "import srtm4\n",
    "\n",
    "# Display and interface settings (just for the notebook interface)\n",
    "%load_ext autoreload\n",
    "%autoreload 2\n",
    "np.set_printoptions(linewidth=150)"
   ]
  },
  {
   "cell_type": "markdown",
   "metadata": {},
   "source": [
    "### Load input data"
   ]
  },
  {
   "cell_type": "code",
   "execution_count": 239,
   "metadata": {},
   "outputs": [
    {
     "name": "stdout",
     "output_type": "stream",
     "text": [
      "Found 6 images\n",
      "Finished loading RPC coefficients\n",
      "Finished cropping the AOI in each image\n",
      "Approximating RPCs as Perspective projection matrices\n",
      "6 projection matrices / 6 (0 err)\n",
      "Done!\n",
      "\n",
      "Synthetic 3D points will be defined within the following 3D boundig box:\n",
      "X interval: (2743055.856693, 2743253.430292)\n",
      "Y interval: (-4491297.877602, -4491129.095219)\n",
      "Z interval: (-3591462.636365, -3591330.583896)\n"
     ]
    }
   ],
   "source": [
    "# list the tiff images available in the remote folder\n",
    "IARPAurl = 'http://138.231.80.166:2332/iarpa-2016/cloud_optimized_geotif/'\n",
    "myimages = utils.listFD(IARPAurl, 'TIF')\n",
    "\n",
    "# sort the images by acquisition date\n",
    "myimages = sorted(myimages, key=utils.acquisition_date)\n",
    "myimages = myimages[:6]\n",
    "print('Found {} images'.format(len(myimages)))\n",
    "\n",
    "# load rpcs\n",
    "myrpcs = [rpcm.rpc_from_geotiff(x) for x in myimages]\n",
    "print('Finished loading RPC coefficients')\n",
    "\n",
    "# set the coordinates of the area of interest as a GeoJSON polygon (Buenos aires AOI)\n",
    "aoi = {'coordinates': [[[-58.585185, -34.490883], [-58.585185, -34.48922 ], [-58.583104, -34.48922 ],\n",
    "                        [-58.583104, -34.490883], [-58.585185, -34.490883]]], 'type': 'Polygon'}\n",
    "aoi['center'] = np.mean(aoi['coordinates'][0][:4], axis=0).tolist() # add center field\n",
    "\n",
    "# get image crops corresponding to the AOI\n",
    "lon, lat = aoi['center']\n",
    "alt = srtm4.srtm4(lon, lat)\n",
    "mycrops = []\n",
    "for iter_cont, f in enumerate(range(len(myimages))):\n",
    "    crop, x0, y0 = rpcm.utils.crop_aoi(myimages[f], aoi, alt)\n",
    "    mycrops.append({ 'crop': utils.simple_equalization_8bit(crop), 'x0': x0, 'y0': y0 })\n",
    "    print('\\r{} / {} done'.format(iter_cont+1, len(myimages)), end = '\\r')\n",
    "print('Finished cropping the AOI in each image')\n",
    "\n",
    "# approximate rpcs as projection matrices\n",
    "P_crop_gt = ba_core.approximate_rpcs_as_proj_matrices(myrpcs, mycrops, aoi, cam_model='Perspective')\n",
    "n_cam = len(P_crop_gt)\n",
    "\n",
    "# get limits of the 3D bounding box where 3D points will be defined\n",
    "print('Synthetic 3D points will be defined within the following 3D boundig box:')\n",
    "margin = 10\n",
    "lon = np.array(aoi['coordinates'])[0,:,0]\n",
    "lat = np.array(aoi['coordinates'])[0,:,1]\n",
    "x,y,z = ba_utils.latlon_to_ecef_custom(lat, lon, [alt]*len(lat))\n",
    "x_lim = (np.round(min(x)+margin,6), np.round(max(x)-margin,6))\n",
    "y_lim = (np.round(min(y)+margin,6), np.round(max(y)-margin,6))\n",
    "z_lim = (np.round(min(z)+margin,6), np.round(max(z)-margin,6))\n",
    "print('X interval:', x_lim)\n",
    "print('Y interval:', y_lim)\n",
    "print('Z interval:', z_lim)"
   ]
  },
  {
   "cell_type": "markdown",
   "metadata": {},
   "source": [
    "### Generate synthetic feature tracks\n",
    "\n",
    "Generate as much feature tracks as desired. Then add Gaussian noise to the 3D coordinates of the points."
   ]
  },
  {
   "cell_type": "code",
   "execution_count": 240,
   "metadata": {},
   "outputs": [
    {
     "name": "stdout",
     "output_type": "stream",
     "text": [
      "Real  3D location: [ 2743139.6486139  -4491168.32495236 -3591434.5704958 ]\n",
      "Noisy 3D location: [ 2743142.89543869 -4491166.57417513 -3591419.96209444]\n",
      "\n",
      "Synthetic feature tracks successfully generated\n"
     ]
    }
   ],
   "source": [
    "# this code generates random synthetic feature tracks in the space defined by (x_lim, y_lim, z_lim)\n",
    "\n",
    "n_pts = 2000  # number of desired 3D points\n",
    "\n",
    "feature_tracks_pts = np.zeros((n_pts, 2, n_cam))\n",
    "r = np.zeros((n_pts, n_cam))\n",
    "pts_3d_gt = np.zeros((n_pts,3))\n",
    "n_success = 0\n",
    "while n_success < n_pts:\n",
    "    \n",
    "    successful_3d_point = False\n",
    "    \n",
    "    while not successful_3d_point:\n",
    "        \n",
    "        successful_3d_point = True\n",
    "        \n",
    "        # select number of cameras where the point is seen\n",
    "        n_im_where_visible = np.random.randint(2, n_cam+1, 1)[0]\n",
    "    \n",
    "        # generate camera indices\n",
    "        ind_im_where_visible = np.unique(np.random.randint(0, n_cam, n_im_where_visible))\n",
    "        \n",
    "        if len(ind_im_where_visible) < 2:\n",
    "            successful_3d_point = False\n",
    "    \n",
    "        # generate random 3d point within the established limits\n",
    "        x = np.random.uniform(x_lim[0], x_lim[1])\n",
    "        y = np.random.uniform(y_lim[0], y_lim[1])\n",
    "        z = np.random.uniform(z_lim[0], z_lim[1])\n",
    "        current_pt3d = np.vstack((x,y,z,1.))\n",
    "\n",
    "        feature_tracks_pts[n_success,:,:] = np.zeros((1,2,n_cam))\n",
    "        r[n_success,:] = np.zeros((1,n_cam))\n",
    "        for im_ind in ind_im_where_visible:\n",
    "            # get 2d projection in current image and check there are no negative coordinates\n",
    "            current_pt2d = P_crop_gt[im_ind] @ current_pt3d\n",
    "            current_pt2d = current_pt2d[:2, :] / current_pt2d[2, :]\n",
    "            feature_tracks_pts[n_success,:,im_ind] = current_pt2d.ravel()\n",
    "            r[n_success,im_ind] = 1\n",
    "            \n",
    "            if len(current_pt2d[current_pt2d<0]) > 0:\n",
    "                successful_3d_point = False\n",
    "            \n",
    "        if successful_3d_point:\n",
    "                pts_3d_gt[n_success,:] = current_pt3d[:3, :].ravel() / current_pt3d[3, :]\n",
    "                successful_3d_point = True\n",
    "                n_success += 1\n",
    "\n",
    "from feature_tracks.feature_detection import corresp_matrix_from_tracks\n",
    "C = np.around(corresp_matrix_from_tracks(feature_tracks_pts, r), 6)\n",
    "\n",
    "# add noise\n",
    "pts_3d_noisy = np.random.normal(pts_3d_gt, 10.)\n",
    "\n",
    "print('Real  3D location:', pts_3d_gt[0,:].ravel())\n",
    "print('Noisy 3D location:', pts_3d_noisy[0,:].ravel())\n",
    "\n",
    "print('\\nSynthetic feature tracks successfully generated')"
   ]
  },
  {
   "cell_type": "markdown",
   "metadata": {},
   "source": [
    "### Add a random rotation to some of the cameras"
   ]
  },
  {
   "cell_type": "code",
   "execution_count": 241,
   "metadata": {},
   "outputs": [
    {
     "name": "stdout",
     "output_type": "stream",
     "text": [
      "Adding a random rotation to each camera...\n",
      "...done!\n"
     ]
    }
   ],
   "source": [
    "from bundle_adjust.ba_rotations import euler_angles_to_R \n",
    "\n",
    "print('Adding a random rotation to each camera...')\n",
    "\n",
    "P_crop_noisy = []\n",
    "for cam_idx in range(n_cam):\n",
    "    roll_deg = np.random.uniform(0.0, 0.0005)\n",
    "    pitch_deg = np.random.uniform(0.0, 0.0005)\n",
    "    yaw_deg = np.random.uniform(0.0, 0.0005)\n",
    "    roll_rad = roll_deg * (np.pi/180.0)\n",
    "    pitch_rad = pitch_deg * (np.pi/180.0)\n",
    "    yaw_rad = yaw_deg * (np.pi/180.0)\n",
    "    R_noise = euler_angles_to_R(np.array([roll_rad, pitch_rad, yaw_rad]))\n",
    "    K, R, vecT, oC = ba_core.decompose_perspective_camera(P_crop_gt[cam_idx])\n",
    "    new_R = R_noise @ R\n",
    "    P_reconstructed = K @ new_R @ np.hstack((np.eye(3), - oC[:, np.newaxis]))\n",
    "    P_crop_noisy.append(P_reconstructed/P_reconstructed[-1,-1])\n",
    "    \n",
    "print('...done!')"
   ]
  },
  {
   "cell_type": "markdown",
   "metadata": {},
   "source": [
    "### Initialize Bundle Adjustment parameters"
   ]
  },
  {
   "cell_type": "code",
   "execution_count": 242,
   "metadata": {},
   "outputs": [
    {
     "name": "stdout",
     "output_type": "stream",
     "text": [
      "6 cameras in total, 0 fixed and 6 to be adjusted\n",
      "3 parameters per camera and 2000 3d points to be optimized\n",
      "pts_2d.shape:(6139, 2)  pts_ind.shape:(6139,)  cam_ind.shape:(6139,)\n",
      "pts_3d.shape:(2000, 3)  cam_params.shape:(6, 11)\n",
      "\n",
      "Bundle Adjustment parameters defined\n",
      "  -> Both camera parameters and 3D points will be optimized\n"
     ]
    }
   ],
   "source": [
    "'''\n",
    "INPUT PARAMETERS FOR BUNDLE ADJUSTMENT\n",
    "'cam_params': (n_cam, 12), initial projection matrices. 1 row = 1 camera estimate.\n",
    "              first 3 elements of each row = R vector, next 3 = T vector, then f and two dist. coef.\n",
    "'pts_3d'    : (n_pts, 3) contains the initial estimates of the 3D points in the world frame.\n",
    "'cam_ind'   : (n_observations,), indices of cameras (from 0 to n_cam - 1) involved in each observation.\n",
    "'pts_ind'   : (n_observations,) indices of points (from 0 to n_points - 1) involved in each observation.\n",
    "'pts_2d'    : (n_observations, 2) 2-D coordinates of points projected on images in each observations.\n",
    "'''\n",
    "\n",
    "im_ind = np.arange(n_cam)\n",
    "pairs_to_triangulate = [(im_i, im_j) for im_i in im_ind for im_j in im_ind if im_i != im_j and im_i<im_j]\n",
    "n_cam_fix = 0\n",
    "n_cam_opt = n_cam-n_cam_fix\n",
    "P_crop = P_crop_noisy.copy()\n",
    "\n",
    "params_opt, cam_params, pts_3d, pts_2d, cam_ind, pts_ind, ba_params = \\\n",
    "ba_core.set_ba_params(P_crop, C, cam_model, n_cam_fix, n_cam_opt, pairs_to_triangulate, pts_3d=pts_3d_noisy)\n",
    "\n",
    "print('pts_2d.shape:{}  pts_ind.shape:{}  cam_ind.shape:{}'.format(pts_2d.shape, pts_ind.shape, cam_ind.shape))\n",
    "print('pts_3d.shape:{}  cam_params.shape:{}\\n'.format(pts_3d.shape, cam_params.shape))\n",
    "print('Bundle Adjustment parameters defined')\n",
    "\n",
    "if ba_params['n_params'] > 0 and ba_params['opt_X']:\n",
    "    print('  -> Both camera parameters and 3D points will be optimized')\n",
    "elif ba_params['n_params'] > 0 and not ba_params['opt_X']:\n",
    "    print('  -> Only the camera parameters will be optimized')\n",
    "else:\n",
    "    print('  -> Only 3D points will be optimized')"
   ]
  },
  {
   "cell_type": "markdown",
   "metadata": {},
   "source": [
    "### Run BA\n"
   ]
  },
  {
   "cell_type": "code",
   "execution_count": 243,
   "metadata": {},
   "outputs": [
    {
     "name": "stdout",
     "output_type": "stream",
     "text": [
      "Shape of matrix A: 12278x6018\n",
      "`xtol` termination condition is satisfied.\n",
      "Function evaluations 3, initial cost 6.6499e+06, final cost 2.1899e-03, first-order optimality 1.26e+02.\n",
      "Optimization took 0 seconds\n",
      "Error before BA (mean / median): 51.76 / 47.20\n",
      "Error after  BA (mean / median): 0.00 / 0.00\n",
      "\n"
     ]
    },
    {
     "data": {
      "image/png": "[encoded data removed]",
      "text/plain": [
       "<Figure size 432x288 with 1 Axes>"
      ]
     },
     "metadata": {
      "needs_background": "light"
     },
     "output_type": "display_data"
    },
    {
     "data": {
      "image/png": "[encoded data removed]",
      "text/plain": [
       "<Figure size 720x216 with 2 Axes>"
      ]
     },
     "metadata": {
      "needs_background": "light"
     },
     "output_type": "display_data"
    }
   ],
   "source": [
    "import time\n",
    "from scipy.optimize import least_squares, minimize\n",
    "\n",
    "# assign a weight to each observation\n",
    "pts_2d_w = np.ones(pts_2d.shape[0])\n",
    "\n",
    "# define input arguments\n",
    "input_args = (cam_ind, pts_ind, pts_2d, cam_params, pts_3d, ba_params, pts_2d_w)\n",
    "\n",
    "# compute loss value and plot residuals at the initial parameters\n",
    "f0 = ba_core.fun(params_opt, *input_args)\n",
    "plt.plot(f0)\n",
    "\n",
    "# define jacobian\n",
    "A = ba_core.bundle_adjustment_sparsity(cam_ind, pts_ind, ba_params)\n",
    "\n",
    "# run bundle adjustment\n",
    "t0 = time.time()\n",
    "res = least_squares(ba_core.fun, params_opt, jac_sparsity=A, verbose=1, x_scale='jac', method='trf', \\\n",
    "                    ftol=1e-4, xtol=1e-10, args=input_args)\n",
    "t1 = time.time()\n",
    "print(\"Optimization took {0:.0f} seconds\".format(t1 - t0))\n",
    "\n",
    "#plot residuals at the found solution\n",
    "plt.plot(res.fun);\n",
    "\n",
    "# recover BA output\n",
    "pts_3d_ba, cam_params_ba, P_crop_ba = ba_core.get_ba_output(res.x, ba_params, cam_params, pts_3d)\n",
    "\n",
    "# check BA error performance\n",
    "ba_e = ba_core.check_ba_error(f0, res.fun, pts_2d_w)"
   ]
  },
  {
   "cell_type": "code",
   "execution_count": 244,
   "metadata": {},
   "outputs": [
    {
     "name": "stdout",
     "output_type": "stream",
     "text": [
      "Did fixed cameras move? No\n",
      "\n",
      "Did cameras to adjust move? Yes\n",
      "\n",
      "Did 3d points move? Yes\n",
      "\n"
     ]
    }
   ],
   "source": [
    "# sanity check\n",
    "\n",
    "fix_cam_ok = np.allclose(np.array(P_crop)[:n_cam_fix], np.array(P_crop_ba)[:n_cam_fix])\n",
    "print('Did fixed cameras move? {}\\n'.format('No' if fix_cam_ok else 'Yes'))\n",
    "\n",
    "opt_cam_ok = np.allclose(np.array(P_crop)[:n_cam_opt], np.array(P_crop_ba)[:n_cam_opt])\n",
    "print('Did cameras to adjust move? {}\\n'.format('No' if opt_cam_ok else 'Yes'))\n",
    "\n",
    "opt_cam_ok = np.allclose(pts_3d, pts_3d_ba)\n",
    "print('Did 3d points move? {}\\n'.format('No' if opt_cam_ok else 'Yes'))"
   ]
  },
  {
   "cell_type": "markdown",
   "metadata": {},
   "source": [
    "### Project initial and refined 3D location"
   ]
  },
  {
   "cell_type": "code",
   "execution_count": 245,
   "metadata": {},
   "outputs": [
    {
     "name": "stdout",
     "output_type": "stream",
     "text": [
      "Real  3D location: [ 2743160.50295901 -4491140.33361169 -3591427.21643345]\n",
      "Noisy 3D location: [ 2743159.34083671 -4491133.12511419 -3591433.17903917]\n",
      "3D location a. BA: [ 2743161.16195659 -4491139.30610475 -3591426.91220262] \n",
      "\n",
      " ----> Real 2D loc in im 0  (sol) =  [97.608558 80.706804]\n",
      " ----> Proj 2D loc in im 0  b. BA =  [95.86576984 64.37308001]\n",
      " ----> Proj 2D loc in im 0  a. BA =  [97.60817874 80.70702191] \n",
      "\n",
      " ----> Real 2D loc in im 2  (sol) =  [157.477749 103.307697]\n",
      " ----> Proj 2D loc in im 2  b. BA =  [149.1873837   71.11544754]\n",
      " ----> Proj 2D loc in im 2  a. BA =  [157.47733338 103.30780995] \n",
      "\n",
      " ----> Real 2D loc in im 4  (sol) =  [176.426593  96.181705]\n",
      " ----> Proj 2D loc in im 4  b. BA =  [194.49641584  46.62054775]\n",
      " ----> Proj 2D loc in im 4  a. BA =  [176.42660774  96.1817715 ] \n",
      "\n",
      " ----> Real 2D loc in im 5  (sol) =  [132.584975 101.528667]\n",
      " ----> Proj 2D loc in im 5  b. BA =  [131.81602797  67.00852569]\n",
      " ----> Proj 2D loc in im 5  a. BA =  [132.58564002 101.5283398 ] \n",
      "\n",
      "Initial Reprojection Error:  16810.50515290111\n",
      "Reprojection Error with BA:  9.534609893695731e-07\n"
     ]
    },
    {
     "data": {
      "image/png": "[encoded data removed]",
      "text/plain": [
       "<Figure size 936x720 with 4 Axes>"
      ]
     },
     "metadata": {
      "needs_background": "light"
     },
     "output_type": "display_data"
    }
   ],
   "source": [
    "p_ind = np.random.choice(np.arange(pts_3d_ba.shape[0]).tolist())\n",
    "im_ind = [k for k, j in enumerate(range(n_cam)) if not np.isnan(C[j*2,ba_params['prev_pts_indices'][p_ind]])]\n",
    "reprojection_error, reprojection_error_ba  = 0., 0.\n",
    "cont = -1\n",
    "_,f = plt.subplots(1, len(im_ind), figsize=(13,10))\n",
    "for i in im_ind:   \n",
    "    cont += 1\n",
    "    \n",
    "    p_2d_gt = C[(i*2):(i*2+2),ba_params['prev_pts_indices'][p_ind]]\n",
    "    pt_3d_ba = np.expand_dims(pts_3d_ba[p_ind,:], axis=1).T\n",
    "    proj = P_crop_ba[i] @ np.expand_dims(np.hstack((pts_3d_ba[p_ind,:], np.ones(1))), axis=1)\n",
    "    p_2d_proj_ba = proj[0:2,:] / proj[-1,-1]\n",
    "    proj = P_crop[i] @ np.expand_dims(np.hstack((pts_3d[p_ind,:], np.ones(1))), axis=1)\n",
    "    p_2d_proj = proj[0:2,:] / proj[-1,-1]\n",
    "    \n",
    "    reprojection_error += np.sum(p_2d_proj - p_2d_gt) ** 2\n",
    "    reprojection_error_ba += np.sum(p_2d_proj_ba - p_2d_gt) ** 2\n",
    "    \n",
    "    if cont == 0:\n",
    "        print('Real  3D location:', pts_3d_gt[ba_params['prev_pts_indices'][p_ind], :].ravel())\n",
    "        print('Noisy 3D location:', pts_3d[p_ind,:].ravel())\n",
    "        print('3D location a. BA:', pts_3d_ba[p_ind,:].ravel(), '\\n')\n",
    "    \n",
    "    print(' ----> Real 2D loc in im', i, ' (sol) = ', p_2d_gt)\n",
    "    print(' ----> Proj 2D loc in im', i, ' b. BA = ', p_2d_proj.ravel())\n",
    "    print(' ----> Proj 2D loc in im', i, ' a. BA = ', p_2d_proj_ba.ravel(), '\\n')\n",
    "    \n",
    "    im = 255.*np.ones((1000,1000))\n",
    "    f[cont].imshow(im.squeeze(), cmap=\"gray\", vmin=0, vmax=255)\n",
    "    f[cont].plot(*p_2d_gt, \"go\")\n",
    "    f[cont].plot(*p_2d_proj, \"bo\")\n",
    "    f[cont].plot(*p_2d_proj_ba, \"ro\")\n",
    "    \n",
    "print('Initial Reprojection Error: ', reprojection_error)\n",
    "print('Reprojection Error with BA: ', reprojection_error_ba)"
   ]
  }
 ],
 "metadata": {
  "kernelspec": {
   "display_name": "Python 3",
   "language": "python",
   "name": "python3"
  },
  "language_info": {
   "codemirror_mode": {
    "name": "ipython",
    "version": 3
   },
   "file_extension": ".py",
   "mimetype": "text/x-python",
   "name": "python",
   "nbconvert_exporter": "python",
   "pygments_lexer": "ipython3",
   "version": "3.6.9"
  },
  "varInspector": {
   "cols": {
    "lenName": 16,
    "lenType": 16,
    "lenVar": 40
   },
   "kernels_config": {
    "python": {
     "delete_cmd_postfix": "",
     "delete_cmd_prefix": "del ",
     "library": "var_list.py",
     "varRefreshCmd": "print(var_dic_list())"
    },
    "r": {
     "delete_cmd_postfix": ") ",
     "delete_cmd_prefix": "rm(",
     "library": "var_list.r",
     "varRefreshCmd": "cat(var_dic_list()) "
    }
   },
   "position": {
    "height": "339.492px",
    "left": "1260.77px",
    "right": "20px",
    "top": "119px",
    "width": "351.465px"
   },
   "types_to_exclude": [
    "module",
    "function",
    "builtin_function_or_method",
    "instance",
    "_Feature"
   ],
   "window_display": false
  }
 },
 "nbformat": 4,
 "nbformat_minor": 2
}
