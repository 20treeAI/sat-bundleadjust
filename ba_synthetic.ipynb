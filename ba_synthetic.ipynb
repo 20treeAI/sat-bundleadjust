{
 "cells": [
  {
   "cell_type": "code",
   "execution_count": 32,
   "metadata": {},
   "outputs": [
    {
     "name": "stdout",
     "output_type": "stream",
     "text": [
      "Found 50 images\n",
      "Finished loading RPC coefficients\n"
     ]
    }
   ],
   "source": [
    "import sys\n",
    "import os\n",
    "\n",
    "# Standard modules used through the notebook \n",
    "import numpy as np\n",
    "import matplotlib.pyplot as plt\n",
    "\n",
    "import utils\n",
    "import ba_utils\n",
    "\n",
    "# list the tiff images available in the remote folder\n",
    "IARPAurl = 'http://menthe.ovh.hw.ipol.im:80/IARPA_data/cloud_optimized_geotif'\n",
    "myimages = utils.listFD(IARPAurl, 'TIF')\n",
    "\n",
    "# sort the images by acquisition date\n",
    "myimages = sorted(myimages, key=utils.acquisition_date)\n",
    "print('Found {} images'.format(len(myimages)))\n",
    "\n",
    "os.chdir('../s2p/')\n",
    "from s2plib import rpc_utils\n",
    "myrpcs = [rpc_utils.rpc_from_geotiff(x) for x in myimages]\n",
    "print('Finished loading RPC coefficients')\n",
    "os.chdir('../IS18/')"
   ]
  },
  {
   "cell_type": "code",
   "execution_count": 33,
   "metadata": {},
   "outputs": [
    {
     "name": "stdout",
     "output_type": "stream",
     "text": [
      "X interval: (2742908.8446473973, 2743517.2821114566)\n",
      "Y interval: (-4491542.355014217, -4490964.3978495635)\n",
      "Z interval: (-3591597.5522590503, -3591199.760935485)\n",
      "\n",
      "Loaded projective matrices and delimited the 3D world\n"
     ]
    }
   ],
   "source": [
    "# frist 10 images from IARPA challenge approximated as projective cameras\n",
    "\n",
    "cam_model = 'Perspective'\n",
    "P_crop = [np.array([[-1.03351352e-01, -7.59381208e-02, -7.83455344e-03, -8.56703538e+04],\n",
    "                    [ 2.27322699e-02, -4.31209301e-02,  1.18870846e-01,  1.70900775e+05],\n",
    "                    [-9.54959091e-08,  1.15402384e-07,  4.32585284e-08,  1.00000000e+00]]),\n",
    "          np.array([[ 4.98547823e-01,  2.88967472e-01, -8.63624983e-03, -1.00740208e+05],\n",
    "                    [-1.36008509e-01,  2.20055378e-01, -5.14469288e-01, -4.86202473e+05],\n",
    "                    [-5.30702847e-08,  9.08545724e-08,  7.35698633e-08,  1.00000000e+00]]),\n",
    "          np.array([[-1.53751865e-01, -1.09565497e-01, -9.12971742e-03, -1.03087318e+05],\n",
    "                    [ 5.95315949e-02, -9.62004017e-02,  1.51129753e-01, -5.25765658e+04],\n",
    "                    [-7.40058473e-08,  9.49438584e-08,  8.66109224e-08,  1.00000000e+00]]),\n",
    "          np.array([[-3.72673270e-01, -4.65059169e-01, -1.37881428e-01, -1.56151274e+06],\n",
    "                    [ 1.48788818e-01, -2.75262789e-01,  5.24003130e-01,  2.37546025e+05],\n",
    "                    [-8.12728491e-08,  4.55468905e-08,  1.01458661e-07,  1.00000000e+00]]),\n",
    "          np.array([[-6.00750426e-01, -8.99741685e-02,  1.59844287e-01,  1.81797594e+06],\n",
    "                    [ 1.84084536e-01, -3.16412987e-01,  5.10287520e-01, -9.33470280e+04],\n",
    "                    [-1.98830936e-08,  1.27660902e-07,  4.26959451e-08,  1.00000000e+00]]),\n",
    "          np.array([[-1.43233241e-01, -1.32390141e-01, -2.60006845e-02, -2.95041940e+05],\n",
    "                    [ 8.12410274e-02, -1.14890586e-01,  1.37472852e-01, -2.45116628e+05],\n",
    "                    [-8.64891209e-08,  6.94059128e-08,  1.07614443e-07,  1.00000000e+00]])]\n",
    "n_cam = len(P_crop)\n",
    " \n",
    "x_lim = (2742908.8446473973, 2743517.2821114566)\n",
    "y_lim = (-4491542.355014217, -4490964.3978495635)\n",
    "z_lim = (-3591597.5522590503, -3591199.760935485)\n",
    "print('X interval:', x_lim)\n",
    "print('Y interval:', y_lim)\n",
    "print('Z interval:', z_lim)\n",
    "\n",
    "print('\\nLoaded projective matrices and delimited the 3D world')\n"
   ]
  },
  {
   "cell_type": "markdown",
   "metadata": {},
   "source": [
    "### Generate Synthetic Feature Tracks\n",
    "\n",
    "Generate as much feature tracks as desired. Then add Gaussian noise to the 3D coordinates of the points."
   ]
  },
  {
   "cell_type": "code",
   "execution_count": 34,
   "metadata": {},
   "outputs": [
    {
     "name": "stdout",
     "output_type": "stream",
     "text": [
      "Real  3D location: [ 2742999.52160656 -4491232.35198729 -3591312.68085648]\n",
      "Noisy 3D location: [ 2742990.75743605 -4491237.98488244 -3591300.71368329]\n",
      "\n",
      "Synthetic feature tracks successfully generated\n"
     ]
    }
   ],
   "source": [
    "# this code generates random synthetic feature tracks in the space defined by (x_lim, y_lim, z_lim)\n",
    "\n",
    "n_pts = 2000  # number of desired 3D points\n",
    "\n",
    "feature_tracks_pts = np.zeros((n_pts, 2, n_cam))\n",
    "r = np.zeros((n_pts, n_cam))\n",
    "pts_3d_gt = np.zeros((n_pts,3))\n",
    "n_success = 0\n",
    "while n_success < n_pts:\n",
    "    \n",
    "    successful_3d_point = False\n",
    "    \n",
    "    while not successful_3d_point:\n",
    "        \n",
    "        successful_3d_point = True\n",
    "        \n",
    "        # select number of cameras where the point is seen\n",
    "        n_im_where_visible = np.random.randint(2, n_cam+1, 1)[0]\n",
    "    \n",
    "        # generate camera indices\n",
    "        ind_im_where_visible = np.unique(np.random.randint(0, n_cam, n_im_where_visible))\n",
    "        \n",
    "        if len(ind_im_where_visible) < 2:\n",
    "            successful_3d_point = False\n",
    "    \n",
    "        # generate random 3d point within the established limits\n",
    "        a, b = x_lim[0], x_lim[1]\n",
    "        x = (b - a) * np.random.random_sample() + a\n",
    "        a, b = y_lim[0], y_lim[1]\n",
    "        y = (b - a) * np.random.random_sample() + a\n",
    "        a, b = z_lim[0], z_lim[1]\n",
    "        z = (b - a) * np.random.random_sample() + a\n",
    "        current_pt3d = np.vstack((x,y,z,1.))\n",
    "\n",
    "        feature_tracks_pts[n_success,:,:] = np.zeros((1,2,n_cam))\n",
    "        r[n_success,:] = np.zeros((1,n_cam))\n",
    "        for im_ind in ind_im_where_visible:\n",
    "            # get 2d projection in current image and check there are no negative coordinates\n",
    "            current_pt2d = P_crop[im_ind] @ current_pt3d\n",
    "            current_pt2d = current_pt2d[:2, :] / current_pt2d[2, :]\n",
    "            feature_tracks_pts[n_success,:,im_ind] = current_pt2d.ravel()\n",
    "            r[n_success,im_ind] = 1\n",
    "            \n",
    "            if len(current_pt2d[current_pt2d<0]) > 0:\n",
    "                successful_3d_point = False\n",
    "            \n",
    "        if successful_3d_point:\n",
    "                pts_3d_gt[n_success,:] = current_pt3d[:3, :].ravel() / current_pt3d[3, :]\n",
    "                successful_3d_point = True\n",
    "                n_success += 1\n",
    "\n",
    "C = np.around(ba_utils.corresp_matrix_from_tracks(feature_tracks_pts, r), 6)\n",
    "\n",
    "# add noise\n",
    "pts_3d_noisy = np.random.normal(pts_3d_gt, 5.)\n",
    "\n",
    "print('Real  3D location:', pts_3d_gt[0,:].ravel())\n",
    "print('Noisy 3D location:', pts_3d_noisy[0,:].ravel())\n",
    "\n",
    "print('\\nSynthetic feature tracks successfully generated')"
   ]
  },
  {
   "cell_type": "markdown",
   "metadata": {},
   "source": [
    "### Initialize Bundle Adjustment parameters"
   ]
  },
  {
   "cell_type": "code",
   "execution_count": 35,
   "metadata": {},
   "outputs": [
    {
     "name": "stdout",
     "output_type": "stream",
     "text": [
      "pts_2d.shape:(5711, 2)  pts_ind.shape:(5711,)  cam_ind.shape:(5711,)\n",
      "pts_3d.shape:(2000, 3)  cam_params.shape:(6, 11)\n",
      "\n",
      "Bundle Adjustment parameters defined\n",
      "  -> Both camera parameters and 3D points will be optimized\n"
     ]
    }
   ],
   "source": [
    "'''\n",
    "INPUT PARAMETERS FOR BUNDLE ADJUSTMENT\n",
    "'cam_params': (n_cam, 12), initial projection matrices. 1 row = 1 camera estimate.\n",
    "              first 3 elements of each row = R vector, next 3 = T vector, then f and two dist. coef.\n",
    "'pts_3d'    : (n_pts, 3) contains the initial estimates of the 3D points in the world frame.\n",
    "'cam_ind'   : (n_observations,), indices of cameras (from 0 to n_cam - 1) involved in each observation.\n",
    "'pts_ind'   : (n_observations,) indices of points (from 0 to n_points - 1) involved in each observation.\n",
    "'pts_2d'    : (n_observations, 2) 2-D coordinates of points projected on images in each observations.\n",
    "'''\n",
    "pts_3d = pts_3d_noisy.copy()\n",
    "pts_3d_opt = pts_3d_noisy.copy()\n",
    "cam_params, cam_params_opt, properR_axis, pts_2d, cam_ind, pts_ind, ba_params \\\n",
    "= ba_utils.set_ba_params(P_crop, C, cam_model, R_params='Rodriguez', opt_X=True, opt_R=True, opt_T=False, opt_K=False)\n",
    "\n",
    "print('pts_2d.shape:{}  pts_ind.shape:{}  cam_ind.shape:{}'.format(pts_2d.shape, pts_ind.shape, cam_ind.shape))\n",
    "print('pts_3d.shape:{}  cam_params.shape:{}\\n'.format(pts_3d.shape, cam_params.shape))\n",
    "print('Bundle Adjustment parameters defined')\n",
    "\n",
    "if ba_params['n_params'] > 0 and ba_params['opt_X']:\n",
    "    print('  -> Both camera parameters and 3D points will be optimized')\n",
    "elif ba_params['n_params'] > 0 and not ba_params['opt_X']:\n",
    "    print('  -> Only the camera parameters will be optimized')\n",
    "else:\n",
    "    print('  -> Only 3D points will be optimized')"
   ]
  },
  {
   "cell_type": "markdown",
   "metadata": {},
   "source": [
    "### Run BA\n"
   ]
  },
  {
   "cell_type": "code",
   "execution_count": 36,
   "metadata": {},
   "outputs": [
    {
     "name": "stdout",
     "output_type": "stream",
     "text": [
      "Shape of matrix A: 11422x6018\n",
      "   Iteration     Total nfev        Cost      Cost reduction    Step norm     Optimality   \n",
      "       0              1         1.1596e+06                                    1.19e+10    \n",
      "       1              2         1.8218e-04      1.16e+06       3.89e+02       2.76e+05    \n",
      "       2              3         9.2384e-09      1.82e-04       2.45e+00       1.84e+02    \n",
      "`xtol` termination condition is satisfied.\n",
      "Function evaluations 3, initial cost 1.1596e+06, final cost 9.2384e-09, first-order optimality 1.84e+02.\n",
      "Optimization took 0 seconds\n"
     ]
    },
    {
     "data": {
      "image/png": "[encoded data removed]",
      "text/plain": [
       "<Figure size 432x288 with 1 Axes>"
      ]
     },
     "metadata": {
      "needs_background": "light"
     },
     "output_type": "display_data"
    }
   ],
   "source": [
    "import time\n",
    "from scipy.optimize import least_squares, minimize\n",
    "\n",
    "# compute loss value and plot residuals at the initial parameters\n",
    "x0 = np.hstack((cam_params_opt.ravel(), pts_3d_opt.ravel()))\n",
    "f0 = ba_utils.fun(x0, cam_ind, pts_ind, pts_2d, properR_axis, cam_params, pts_3d, ba_params)\n",
    "plt.plot(f0)\n",
    "\n",
    "# define jacobian\n",
    "A = ba_utils.bundle_adjustment_sparsity(cam_ind, pts_ind, ba_params)\n",
    "\n",
    "# run bundle adjustment\n",
    "t0 = time.time()\n",
    "res = least_squares(ba_utils.fun, x0, jac_sparsity=A, verbose=2, x_scale='jac',\n",
    "                    method='trf', ftol=1e-4, #loss='soft_l1', f_scale = 5.0,\n",
    "                    args=(cam_ind, pts_ind, pts_2d, properR_axis, cam_params, pts_3d, ba_params))\n",
    "\n",
    "t1 = time.time()\n",
    "print(\"Optimization took {0:.0f} seconds\".format(t1 - t0))\n",
    "\n",
    "#plot residuals at the found solution\n",
    "plt.plot(res.fun);\n",
    "\n",
    "# recover BA output\n",
    "pts_3d_ba, cam_params_ba, P_crop_ba = ba_utils.get_ba_output(res.x, ba_params, properR_axis, cam_params, pts_3d)"
   ]
  },
  {
   "cell_type": "markdown",
   "metadata": {},
   "source": [
    "### Project initial and refined 3D location"
   ]
  },
  {
   "cell_type": "code",
   "execution_count": 39,
   "metadata": {},
   "outputs": [
    {
     "name": "stdout",
     "output_type": "stream",
     "text": [
      "Real  3D location: [ 2742999.52160656 -4491232.35198729 -3591312.68085648]\n",
      "Noisy 3D location: [ 2742990.75743605 -4491237.98488244 -3591300.71368329]\n",
      "3D location a. BA: [ 2742999.49821759 -4491232.38932517 -3591312.66311798] \n",
      "\n",
      " ----> Real 2D loc in im 2  (sol) =  [724.96592422 381.73419926]\n",
      " ----> Proj 2D loc in im 2  b. BA =  [756.11383759 412.44058492]\n",
      " ----> Proj 2D loc in im 2  a. BA =  [724.96592378 381.73419936] \n",
      "\n",
      " ----> Real 2D loc in im 3  (sol) =  [522.56358951 402.32733078]\n",
      " ----> Proj 2D loc in im 3  b. BA =  [542.90999899 433.63662522]\n",
      " ----> Proj 2D loc in im 3  a. BA =  [522.56359011 402.32733051] \n",
      "\n",
      " ----> Real 2D loc in im 5  (sol) =  [632.24098439 306.53382294]\n",
      " ----> Proj 2D loc in im 5  b. BA =  [658.39774336 331.00165328]\n",
      " ----> Proj 2D loc in im 5  a. BA =  [632.24098416 306.53382307] \n",
      "\n",
      "Initial Reprojection Error:  36228.460392083114\n",
      "Reprojection Error with BA:  9.56048523245836e-13\n"
     ]
    },
    {
     "data": {
      "image/png": "[encoded data removed]",
      "text/plain": [
       "<Figure size 936x720 with 3 Axes>"
      ]
     },
     "metadata": {
      "needs_background": "light"
     },
     "output_type": "display_data"
    }
   ],
   "source": [
    "p_ind = 0 # feature track index\n",
    "im_ind = [k for k, j in enumerate(range(n_cam)) if not np.isnan(C[j*2,p_ind])]\n",
    "reprojection_error, reprojection_error_ba  = 0., 0.\n",
    "cont = -1\n",
    "_,f = plt.subplots(1, len(im_ind), figsize=(13,10))\n",
    "for i in im_ind:   \n",
    "    cont += 1\n",
    "    \n",
    "    p_2d_gt = feature_tracks_pts[p_ind,:,i]\n",
    "    pt_3d_ba = np.expand_dims(pts_3d_ba[p_ind,:], axis=1).T\n",
    "    proj = P_crop_ba[i] @ np.expand_dims(np.hstack((pts_3d_ba[p_ind,:], np.ones(1))), axis=1)\n",
    "    p_2d_proj_ba = proj[0:2,:] / proj[-1,-1]\n",
    "    proj = P_crop[i] @ np.expand_dims(np.hstack((pts_3d_noisy[p_ind,:], np.ones(1))), axis=1)\n",
    "    p_2d_proj = proj[0:2,:] / proj[-1,-1]\n",
    "    \n",
    "    reprojection_error += np.sum(p_2d_proj - p_2d_gt) ** 2\n",
    "    reprojection_error_ba += np.sum(p_2d_proj_ba - p_2d_gt) ** 2\n",
    "    \n",
    "    if cont == 0:\n",
    "        print('Real  3D location:', pts_3d_gt[p_ind,:].ravel())\n",
    "        print('Noisy 3D location:', pts_3d_noisy[p_ind,:].ravel())\n",
    "        print('3D location a. BA:', pts_3d_ba[p_ind,:].ravel(), '\\n')\n",
    "    \n",
    "    print(' ----> Real 2D loc in im', i, ' (sol) = ', p_2d_gt)\n",
    "    print(' ----> Proj 2D loc in im', i, ' b. BA = ', p_2d_proj.ravel())\n",
    "    print(' ----> Proj 2D loc in im', i, ' a. BA = ', p_2d_proj_ba.ravel(), '\\n')\n",
    "    \n",
    "    im = 255.*np.ones((1000,1000))\n",
    "    f[cont].imshow(im.squeeze(), cmap=\"gray\", vmin=0, vmax=255)\n",
    "    f[cont].plot(*p_2d_gt, \"go\")\n",
    "    f[cont].plot(*p_2d_proj, \"bo\")\n",
    "    f[cont].plot(*p_2d_proj_ba, \"ro\")\n",
    "    \n",
    "print('Initial Reprojection Error: ', reprojection_error)\n",
    "print('Reprojection Error with BA: ', reprojection_error_ba)"
   ]
  },
  {
   "cell_type": "code",
   "execution_count": 41,
   "metadata": {},
   "outputs": [
    {
     "name": "stdout",
     "output_type": "stream",
     "text": [
      "reprojection error:  9633583.314232087\n",
      "reprojection error after BA:  8.392389402604873e-08\n"
     ]
    }
   ],
   "source": [
    "# COMPUTE TOTAL REPROJECTION ERRORS (with all tracks)\n",
    "\n",
    "reprojection_error = 0\n",
    "reprojection_error_ba = 0\n",
    "\n",
    "for p_ind in range(n_pts): # feature track index\n",
    "    im_ind = [k for k, j in enumerate(range(n_cam)) if r[p_ind,j]!=0]\n",
    "    for i in im_ind:   \n",
    "        \n",
    "        p_2d_gt = feature_tracks_pts[p_ind,:,i]\n",
    "        pt_3d_ba = np.expand_dims(pts_3d_ba[p_ind,:], axis=1).T\n",
    "        proj = P_crop_ba[i] @ np.expand_dims(np.hstack((pts_3d_ba[p_ind,:], np.ones(1))), axis=1)\n",
    "        p_2d_proj_ba = proj[0:2,:] / proj[-1,-1]\n",
    "        proj = P_crop[i] @ np.expand_dims(np.hstack((pts_3d_noisy[p_ind,:], np.ones(1))), axis=1)\n",
    "        p_2d_proj = proj[0:2,:] / proj[-1,-1]\n",
    "    \n",
    "        reprojection_error += np.sum(p_2d_proj - p_2d_gt) ** 2\n",
    "        reprojection_error_ba += np.sum(p_2d_proj_ba - p_2d_gt) ** 2\n",
    "\n",
    "print('reprojection error: ', reprojection_error)\n",
    "print('reprojection error after BA: ', reprojection_error_ba)\n"
   ]
  }
 ],
 "metadata": {
  "kernelspec": {
   "display_name": "Python 3",
   "language": "python",
   "name": "python3"
  },
  "language_info": {
   "codemirror_mode": {
    "name": "ipython",
    "version": 3
   },
   "file_extension": ".py",
   "mimetype": "text/x-python",
   "name": "python",
   "nbconvert_exporter": "python",
   "pygments_lexer": "ipython3",
   "version": "3.6.7"
  },
  "varInspector": {
   "cols": {
    "lenName": 16,
    "lenType": 16,
    "lenVar": 40
   },
   "kernels_config": {
    "python": {
     "delete_cmd_postfix": "",
     "delete_cmd_prefix": "del ",
     "library": "var_list.py",
     "varRefreshCmd": "print(var_dic_list())"
    },
    "r": {
     "delete_cmd_postfix": ") ",
     "delete_cmd_prefix": "rm(",
     "library": "var_list.r",
     "varRefreshCmd": "cat(var_dic_list()) "
    }
   },
   "position": {
    "height": "339.492px",
    "left": "1260.77px",
    "right": "20px",
    "top": "119px",
    "width": "351.465px"
   },
   "types_to_exclude": [
    "module",
    "function",
    "builtin_function_or_method",
    "instance",
    "_Feature"
   ],
   "window_display": false
  }
 },
 "nbformat": 4,
 "nbformat_minor": 2
}
