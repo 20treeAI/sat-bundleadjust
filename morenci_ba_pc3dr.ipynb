{
 "cells": [
  {
   "cell_type": "code",
   "execution_count": 2,
   "metadata": {},
   "outputs": [],
   "source": [
    "#%matplotlib notebook\n",
    "import sys\n",
    "import os\n",
    "\n",
    "# Standard modules used through the notebook \n",
    "import numpy as np\n",
    "import matplotlib.pyplot as plt\n",
    "\n",
    "# tools for applying bundle adjustment to a temporal sequence of satellite images\n",
    "import bundle_adjust.ba_timeseries as ba_timeseries\n",
    "\n",
    "from bundle_adjust import data_loader as loader\n",
    "from PIL import Image\n",
    "import glob\n",
    "\n",
    "# Display and interface settings (just for the notebook interface)\n",
    "%matplotlib inline\n",
    "%load_ext autoreload\n",
    "%autoreload 2\n",
    "np.set_printoptions(linewidth=150)"
   ]
  },
  {
   "cell_type": "markdown",
   "metadata": {},
   "source": [
    "### Load scene"
   ]
  },
  {
   "cell_type": "code",
   "execution_count": 3,
   "metadata": {
    "scrolled": false
   },
   "outputs": [
    {
     "name": "stdout",
     "output_type": "stream",
     "text": [
      "#############################################################\n",
      "Loading scene from...\n",
      "    - images_dir: /home/anger/for_roger/L1B\n",
      "\n"
     ]
    },
    {
     "data": {
      "image/png": "[encoded data removed]",
      "text/plain": [
       "<Figure size 720x720 with 1 Axes>"
      ]
     },
     "metadata": {
      "needs_background": "light"
     },
     "output_type": "display_data"
    },
    {
     "name": "stdout",
     "output_type": "stream",
     "text": [
      "Found 1 different dates in the scene timeline\n",
      "\n",
      "Total images in timeline: 101\n",
      "\n",
      "The AOI covers a total of 61.63 squared km:\n",
      "#############################################################\n",
      "\n",
      "\n"
     ]
    },
    {
     "data": {
      "application/vnd.jupyter.widget-view+json": {
       "model_id": "9cac44c25f3240ecbe9ffe42d52c42e2",
       "version_major": 2,
       "version_minor": 0
      },
      "text/plain": [
       "Map(basemap={'url': 'https://{s}.tile.openstreetmap.org/{z}/{x}/{y}.png', 'max_zoom': 19, 'attribution': 'Map …"
      ]
     },
     "metadata": {},
     "output_type": "display_data"
    }
   ],
   "source": [
    "mine_loader = {'images_dir': '/home/anger/for_roger/L1B',\n",
    "               's2p_configs_dir': '/home/anger/for_roger/s2p',\n",
    "               'output_dir': 'exp/mine',\n",
    "               'aoi_geojson': None,\n",
    "               'compute_aoi_masks': True,\n",
    "               'use_aoi_masks_to_equalize_crops': False}\n",
    "    \n",
    "scene = ba_timeseries.Scene(mine_loader)\n",
    "scene.display_aoi()"
   ]
  },
  {
   "cell_type": "markdown",
   "metadata": {},
   "source": [
    "### Copy  pc3dr output as rasterized dsms equivalent to the BA ones"
   ]
  },
  {
   "cell_type": "code",
   "execution_count": 9,
   "metadata": {},
   "outputs": [],
   "source": [
    "t_id = scene.timeline[0]['id']\n",
    "rec4D_dir =  '/home/rogermm14/sat-bundleadjust/exp/mine/ba_global/4D'\n",
    "pc3dr_in_dir = '/home/anger/for_roger/reg'\n",
    "s2p_dir = os.path.join(rec4D_dir, 's2p/{}'.format(t_id))\n",
    "\n",
    "dsm_resolution = 0.8"
   ]
  },
  {
   "cell_type": "code",
   "execution_count": 5,
   "metadata": {
    "scrolled": false
   },
   "outputs": [
    {
     "name": "stdout",
     "output_type": "stream",
     "text": [
      "Rasterizing 116 dsm / 232\r"
     ]
    }
   ],
   "source": [
    "s2p_dsm_fnames = loader.load_s2p_dsm_fnames_from_dir(s2p_dir)\n",
    "\n",
    "for idx, s2p_dsm_fn in enumerate(s2p_dsm_fnames):\n",
    "    path_to_ply_files = os.path.dirname(s2p_dsm_fn).replace(s2p_dir, pc3dr_in_dir)\n",
    "    ply_fnames = glob.glob(os.path.join(path_to_ply_files, '**/*.ply'), recursive=True)\n",
    "    if len(ply_fnames) == 0:\n",
    "        continue\n",
    "    dst_dsm_fname = s2p_dsm_fn.replace('/s2p/', '/pc3dr/')\n",
    "    os.makedirs(os.path.dirname(dst_dsm_fname), exist_ok=True)\n",
    "    #dsm_resolution = float(loader.json2dict(s2p_dsm_fn.replace('/dsm.tif', '/config.json'))['dsm_resolution'])\n",
    "    args = [path_to_ply_files, dst_dsm_fname, dsm_resolution]\n",
    "    cmd = \"plyflatten $(find {} -name 'cloud.ply') {} --resolution {}\".format(*args)\n",
    "    os.system(cmd)\n",
    "    \n",
    "    print('\\rRasterizing {} dsm / {}'.format(idx+1, len(s2p_dsm_fnames)), end='\\r')"
   ]
  },
  {
   "cell_type": "code",
   "execution_count": 7,
   "metadata": {},
   "outputs": [
    {
     "name": "stdout",
     "output_type": "stream",
     "text": [
      "/home/rogermm14/sat-bundleadjust/exp/mine/ba_global/4D/dsms/20190128_204710_pc3dr.tif successfully created\n"
     ]
    }
   ],
   "source": [
    "complete_dsm_fname = os.path.join(rec4D_dir, 'dsms/{}_pc3dr.tif'.format(t_id))\n",
    "args = [pc3dr_in_dir, complete_dsm_fname, dsm_resolution]\n",
    "cmd = \"plyflatten $(find {} -name 'cloud.ply') {} --resolution {}\".format(*args)\n",
    "os.system(cmd)\n",
    "\n",
    "print('{} successfully created'.format(complete_dsm_fname))"
   ]
  },
  {
   "cell_type": "markdown",
   "metadata": {},
   "source": [
    "### Compare std pc3dr with std BA"
   ]
  },
  {
   "cell_type": "code",
   "execution_count": 10,
   "metadata": {},
   "outputs": [
    {
     "name": "stdout",
     "output_type": "stream",
     "text": [
      "\n",
      "###################################################################################\n",
      "Computing std for specific date...\n",
      "  - complete_dsm_fname: /home/rogermm14/sat-bundleadjust/exp/mine/ba_global/4D/dsms/20190128_204710_pc3dr.tif\n",
      "  - tile_size: 500\n",
      "###################################################################################\n",
      "\n",
      "\n",
      "Clipping dsms...\n",
      "116 dsms / 116\n",
      "Done!\n",
      "\n",
      "616 tiles / 616\n",
      "Done!\n",
      "\n"
     ]
    }
   ],
   "source": [
    "from bundle_adjust import ba_metrics\n",
    "\n",
    "pc3dr_dsms_fnames = loader.load_s2p_dsm_fnames_from_dir(s2p_dir.replace('/s2p/', '/pc3dr/'))\n",
    "std_per_date_dir = os.path.join(rec4D_dir, 'metrics_pc3dr/std_per_date')\n",
    "\n",
    "ba_metrics.compute_std_for_specific_date_from_tiles(complete_dsm_fname, pc3dr_dsms_fnames,\n",
    "                                                    output_dir=std_per_date_dir)"
   ]
  },
  {
   "cell_type": "code",
   "execution_count": 16,
   "metadata": {
    "scrolled": false
   },
   "outputs": [
    {
     "name": "stdout",
     "output_type": "stream",
     "text": [
      "/home/rogermm14/sat-bundleadjust/exp/mine/ba_global/4D/metrics_pc3dr/std_per_date/20190128_204710_pc3dr_std.tif \n",
      "median std: 0.162 / average std: 6.610\n"
     ]
    },
    {
     "data": {
      "image/png": "[encoded data removed]",
      "text/plain": [
       "<Figure size 432x288 with 1 Axes>"
      ]
     },
     "metadata": {
      "needs_background": "light"
     },
     "output_type": "display_data"
    }
   ],
   "source": [
    "#\n",
    "# pc3dr\n",
    "#\n",
    "\n",
    "std_fname = os.path.join(rec4D_dir, 'metrics_pc3dr/std_per_date/{}_pc3dr_std.tif'.format(t_id))\n",
    "\n",
    "im = np.array(Image.open(std_fname)).flatten()\n",
    "im = np.sort(im[~np.isnan(im)])\n",
    "\n",
    "print('{} \\nmedian std: {:.3f} / average std: {:.3f}'.format(std_fname, np.median(im), np.mean(im)))\n",
    "plt.plot(im)\n",
    "plt.show()\n"
   ]
  },
  {
   "cell_type": "code",
   "execution_count": 19,
   "metadata": {},
   "outputs": [
    {
     "name": "stdout",
     "output_type": "stream",
     "text": [
      "/home/rogermm14/sat-bundleadjust/exp/mine/ba_global/4D/std_ba.tif \n",
      "median std: 0.250 / average std: 0.362\n"
     ]
    },
    {
     "data": {
      "image/png": "[encoded data removed]",
      "text/plain": [
       "<Figure size 432x288 with 1 Axes>"
      ]
     },
     "metadata": {
      "needs_background": "light"
     },
     "output_type": "display_data"
    }
   ],
   "source": [
    "#\n",
    "# bundle adjustment \n",
    "#\n",
    "      \n",
    "std_fname = os.path.join(rec4D_dir, 'std_ba.tif')\n",
    "    \n",
    "im = np.array(Image.open(std_fname)).flatten()\n",
    "im = np.sort(im[~np.isnan(im)])\n",
    "      \n",
    "print('{} \\nmedian std: {:.3f} / average std: {:.3f}'.format(std_fname, np.median(im), np.mean(im)))\n",
    "plt.plot(im)\n",
    "plt.show()\n"
   ]
  },
  {
   "cell_type": "code",
   "execution_count": 21,
   "metadata": {},
   "outputs": [
    {
     "name": "stdout",
     "output_type": "stream",
     "text": [
      "/home/rogermm14/sat-bundleadjust/exp/mine/ba_global/4D/metrics/std_per_date/20190128_204710_std.tif \n",
      "median std: 0.322 / average std: 0.432\n"
     ]
    },
    {
     "data": {
      "image/png": "[encoded data removed]",
      "text/plain": [
       "<Figure size 432x288 with 1 Axes>"
      ]
     },
     "metadata": {
      "needs_background": "light"
     },
     "output_type": "display_data"
    }
   ],
   "source": [
    "std_fname = os.path.join(rec4D_dir, 'metrics/std_per_date/{}_std.tif'.format(t_id))\n",
    "\n",
    "im = np.array(Image.open(std_fname)).flatten()\n",
    "im = np.sort(im[~np.isnan(im)])\n",
    "      \n",
    "print('{} \\nmedian std: {:.3f} / average std: {:.3f}'.format(std_fname, np.median(im), np.mean(im)))\n",
    "plt.plot(im)\n",
    "plt.show()"
   ]
  }
 ],
 "metadata": {
  "kernelspec": {
   "display_name": "Python 3",
   "language": "python",
   "name": "python3"
  },
  "language_info": {
   "codemirror_mode": {
    "name": "ipython",
    "version": 3
   },
   "file_extension": ".py",
   "mimetype": "text/x-python",
   "name": "python",
   "nbconvert_exporter": "python",
   "pygments_lexer": "ipython3",
   "version": "3.6.9"
  },
  "varInspector": {
   "cols": {
    "lenName": 16,
    "lenType": 16,
    "lenVar": 40
   },
   "kernels_config": {
    "python": {
     "delete_cmd_postfix": "",
     "delete_cmd_prefix": "del ",
     "library": "var_list.py",
     "varRefreshCmd": "print(var_dic_list())"
    },
    "r": {
     "delete_cmd_postfix": ") ",
     "delete_cmd_prefix": "rm(",
     "library": "var_list.r",
     "varRefreshCmd": "cat(var_dic_list()) "
    }
   },
   "types_to_exclude": [
    "module",
    "function",
    "builtin_function_or_method",
    "instance",
    "_Feature"
   ],
   "window_display": false
  }
 },
 "nbformat": 4,
 "nbformat_minor": 2
}
