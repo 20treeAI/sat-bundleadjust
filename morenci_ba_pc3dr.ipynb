{
 "cells": [
  {
   "cell_type": "code",
   "execution_count": 1,
   "metadata": {},
   "outputs": [],
   "source": [
    "#%matplotlib notebook\n",
    "import sys\n",
    "import os\n",
    "\n",
    "# Standard modules used through the notebook \n",
    "import numpy as np\n",
    "import matplotlib.pyplot as plt\n",
    "\n",
    "# tools for applying bundle adjustment to a temporal sequence of satellite images\n",
    "import bundle_adjust.ba_timeseries as ba_timeseries\n",
    "\n",
    "from bundle_adjust import data_loader as loader\n",
    "from PIL import Image\n",
    "import glob\n",
    "import rpcm\n",
    "\n",
    "# Display and interface settings (just for the notebook interface)\n",
    "%matplotlib inline\n",
    "%load_ext autoreload\n",
    "%autoreload 2\n",
    "np.set_printoptions(linewidth=150)"
   ]
  },
  {
   "cell_type": "markdown",
   "metadata": {},
   "source": [
    "### Copy  pc3dr output as rasterized dsms equivalent to the BA ones"
   ]
  },
  {
   "cell_type": "code",
   "execution_count": 15,
   "metadata": {},
   "outputs": [
    {
     "name": "stdout",
     "output_type": "stream",
     "text": [
      "done\n"
     ]
    }
   ],
   "source": [
    "t_id = '20190128_204710'\n",
    "rec4D_dir =  '/home/rogermm14/sat-bundleadjust/exp/mine_L1A/ba_global/4D'\n",
    "pc3dr_in_dir = '/home/anger/for_roger/reg'\n",
    "s2p_dir = os.path.join(rec4D_dir, 's2p/{}'.format(t_id))\n",
    "\n",
    "dsm_resolution = 0.8\n",
    "\n",
    "print('done')"
   ]
  },
  {
   "cell_type": "code",
   "execution_count": 35,
   "metadata": {
    "scrolled": false
   },
   "outputs": [
    {
     "name": "stdout",
     "output_type": "stream",
     "text": [
      "/home/rogermm14/sat-bundleadjust/exp/mine_L1A/ba_global/4D/dsms/20190128_204710_ba_1-0.tif successfully created\n"
     ]
    }
   ],
   "source": [
    "s2p_dsm_fnames = loader.load_s2p_dsm_fnames_from_dir(s2p_dir)\n",
    "\n",
    "all_ply_fnames = []\n",
    "for idx, s2p_dsm_fn in enumerate(s2p_dsm_fnames):\n",
    "    pc3dr_path_to_ply_files = os.path.dirname(s2p_dsm_fn).replace(s2p_dir, pc3dr_in_dir)\n",
    "    pc3dr_ply_fnames = glob.glob(os.path.join(pc3dr_path_to_ply_files, '**/*.ply'), recursive=True)\n",
    "    if len(pc3dr_ply_fnames) == 0:\n",
    "        continue\n",
    "    ba_ply_fnames = glob.glob(os.path.join(os.path.dirname(s2p_dsm_fn), '**/*.ply'), recursive=True)\n",
    "    all_ply_fnames.extend(ba_ply_fnames)\n",
    "    \n",
    "complete_dsm_fname = os.path.join(rec4D_dir, 'dsms/{}_ba_1-0.tif'.format(t_id))\n",
    "args = [' '.join(all_ply_fnames), complete_dsm_fname, dsm_resolution]\n",
    "cmd = \"plyflatten {} {} --resolution {}\".format(*args)\n",
    "os.system(cmd)\n",
    "\n",
    "print('{} successfully created'.format(complete_dsm_fname))"
   ]
  },
  {
   "cell_type": "code",
   "execution_count": 33,
   "metadata": {},
   "outputs": [
    {
     "name": "stdout",
     "output_type": "stream",
     "text": [
      "/home/rogermm14/sat-bundleadjust/exp/mine_L1B/ba_global/4D/dsms/20190128_204710_pc3dr.tif successfully created\n"
     ]
    }
   ],
   "source": [
    "complete_dsm_fname = os.path.join(rec4D_dir, 'dsms/{}_pc3dr.tif'.format(t_id))\n",
    "args = [pc3dr_in_dir, complete_dsm_fname, dsm_resolution]\n",
    "cmd = \"plyflatten $(find {} -name 'cloud.ply') {} --resolution {}\".format(*args)\n",
    "os.system(cmd)\n",
    "\n",
    "print('{} successfully created'.format(complete_dsm_fname))"
   ]
  },
  {
   "cell_type": "markdown",
   "metadata": {},
   "source": [
    "### Compare std pc3dr with std BA"
   ]
  },
  {
   "cell_type": "code",
   "execution_count": 10,
   "metadata": {},
   "outputs": [
    {
     "name": "stdout",
     "output_type": "stream",
     "text": [
      "\n",
      "###################################################################################\n",
      "Computing std for specific date...\n",
      "  - complete_dsm_fname: /home/rogermm14/sat-bundleadjust/exp/mine/ba_global/4D/dsms/20190128_204710_pc3dr.tif\n",
      "  - tile_size: 500\n",
      "###################################################################################\n",
      "\n",
      "\n",
      "Clipping dsms...\n",
      "116 dsms / 116\n",
      "Done!\n",
      "\n",
      "616 tiles / 616\n",
      "Done!\n",
      "\n"
     ]
    }
   ],
   "source": [
    "from bundle_adjust import ba_metrics\n",
    "\n",
    "pc3dr_dsms_fnames = loader.load_s2p_dsm_fnames_from_dir(s2p_dir.replace('/s2p/', '/pc3dr/'))\n",
    "std_per_date_dir = os.path.join(rec4D_dir, 'metrics_pc3dr/std_per_date')\n",
    "\n",
    "ba_metrics.compute_std_for_specific_date_from_tiles(complete_dsm_fname, pc3dr_dsms_fnames,\n",
    "                                                    output_dir=std_per_date_dir)"
   ]
  },
  {
   "cell_type": "code",
   "execution_count": 23,
   "metadata": {
    "scrolled": false
   },
   "outputs": [
    {
     "name": "stdout",
     "output_type": "stream",
     "text": [
      "/home/rogermm14/sat-bundleadjust/exp/mine/ba_global/4D/metrics_pc3dr/std_per_date/20190128_204710_pc3dr_std.tif \n",
      "median std: 0.162 / average std: 6.610\n"
     ]
    },
    {
     "data": {
      "image/png": "[encoded data removed]",
      "text/plain": [
       "<Figure size 432x288 with 1 Axes>"
      ]
     },
     "metadata": {
      "needs_background": "light"
     },
     "output_type": "display_data"
    },
    {
     "data": {
      "image/png": "[encoded data removed]",
      "text/plain": [
       "<Figure size 432x288 with 1 Axes>"
      ]
     },
     "metadata": {
      "needs_background": "light"
     },
     "output_type": "display_data"
    }
   ],
   "source": [
    "#\n",
    "# pc3dr\n",
    "#\n",
    "\n",
    "std_fname = os.path.join(rec4D_dir, 'metrics_pc3dr/std_per_date/{}_pc3dr_std.tif'.format(t_id))\n",
    "\n",
    "im = np.array(Image.open(std_fname)).flatten()\n",
    "im = np.sort(im[~np.isnan(im)])\n",
    "\n",
    "print('{} \\nmedian std: {:.3f} / average std: {:.3f}'.format(std_fname, np.median(im), np.mean(im)))\n",
    "plt.plot(im)\n",
    "plt.show()\n",
    "\n",
    "plt.plot(im[im < 1.])\n",
    "plt.show()\n"
   ]
  },
  {
   "cell_type": "code",
   "execution_count": 22,
   "metadata": {},
   "outputs": [
    {
     "name": "stdout",
     "output_type": "stream",
     "text": [
      "/home/rogermm14/sat-bundleadjust/exp/mine/ba_global/4D/std_ba.tif \n",
      "median std: 0.250 / average std: 0.362\n"
     ]
    },
    {
     "data": {
      "image/png": "[encoded data removed]",
      "text/plain": [
       "<Figure size 432x288 with 1 Axes>"
      ]
     },
     "metadata": {
      "needs_background": "light"
     },
     "output_type": "display_data"
    },
    {
     "data": {
      "image/png": "[encoded data removed]",
      "text/plain": [
       "<Figure size 432x288 with 1 Axes>"
      ]
     },
     "metadata": {
      "needs_background": "light"
     },
     "output_type": "display_data"
    }
   ],
   "source": [
    "#\n",
    "# bundle adjustment \n",
    "#\n",
    "      \n",
    "std_fname = os.path.join(rec4D_dir, 'std_ba.tif')\n",
    "    \n",
    "im = np.array(Image.open(std_fname)).flatten()\n",
    "im = np.sort(im[~np.isnan(im)])\n",
    "      \n",
    "print('{} \\nmedian std: {:.3f} / average std: {:.3f}'.format(std_fname, np.median(im), np.mean(im)))\n",
    "plt.plot(im)\n",
    "plt.show()\n",
    "\n",
    "plt.plot(im[im < 1.])\n",
    "plt.show()\n"
   ]
  },
  {
   "cell_type": "code",
   "execution_count": 24,
   "metadata": {},
   "outputs": [
    {
     "name": "stdout",
     "output_type": "stream",
     "text": [
      "/home/rogermm14/sat-bundleadjust/exp/mine/ba_global/4D/metrics/std_per_date/20190128_204710_std.tif \n",
      "median std: 0.322 / average std: 0.432\n"
     ]
    },
    {
     "data": {
      "image/png": "[encoded data removed]",
      "text/plain": [
       "<Figure size 432x288 with 1 Axes>"
      ]
     },
     "metadata": {
      "needs_background": "light"
     },
     "output_type": "display_data"
    },
    {
     "data": {
      "image/png": "[encoded data removed]",
      "text/plain": [
       "<Figure size 432x288 with 1 Axes>"
      ]
     },
     "metadata": {
      "needs_background": "light"
     },
     "output_type": "display_data"
    }
   ],
   "source": [
    "std_fname = os.path.join(rec4D_dir, 'metrics/std_per_date/{}_std.tif'.format(t_id))\n",
    "\n",
    "im = np.array(Image.open(std_fname)).flatten()\n",
    "im = np.sort(im[~np.isnan(im)])\n",
    "      \n",
    "print('{} \\nmedian std: {:.3f} / average std: {:.3f}'.format(std_fname, np.median(im), np.mean(im)))\n",
    "plt.plot(im)\n",
    "plt.show()\n",
    "\n",
    "plt.plot(im[im < 1.])\n",
    "plt.show()"
   ]
  },
  {
   "cell_type": "markdown",
   "metadata": {},
   "source": [
    "### Remove outliers from std maps"
   ]
  },
  {
   "cell_type": "code",
   "execution_count": 12,
   "metadata": {},
   "outputs": [
    {
     "name": "stderr",
     "output_type": "stream",
     "text": [
      "/home/rogermm14/.local/lib/python3.6/site-packages/PIL/Image.py:2731: DecompressionBombWarning: Image size (146249088 pixels) exceeds limit of 89478485 pixels, could be decompression bomb DOS attack.\n",
      "  DecompressionBombWarning,\n",
      "/home/rogermm14/.local/lib/python3.6/site-packages/ipykernel_launcher.py:4: RuntimeWarning: invalid value encountered in greater\n",
      "  after removing the cwd from sys.path.\n"
     ]
    }
   ],
   "source": [
    "std_fname = 'exp/mine_L1A/ba_global/4D/dsms/20190128_204710_std.tif'\n",
    "\n",
    "im = np.array(Image.open(std_fname))\n",
    "im[im>3] = np.nan\n",
    "\n",
    "Image.fromarray(im).save(loader.add_suffix_to_fname(std_fname, 'v2'))"
   ]
  },
  {
   "cell_type": "markdown",
   "metadata": {},
   "source": [
    "### Generate L1A-rpcfix config.json"
   ]
  },
  {
   "cell_type": "code",
   "execution_count": 9,
   "metadata": {},
   "outputs": [
    {
     "name": "stdout",
     "output_type": "stream",
     "text": [
      "done creating L1A config.json\n"
     ]
    }
   ],
   "source": [
    "L1B_s2p_configs_dir = '/home/anger/for_roger/s2p'\n",
    "L1A_s2p_configs_dir = '/home/rogermm14/morenci_L1A_s2p'\n",
    "\n",
    "L1A_geotiff_dir = '/home/anger/for_roger/L1A_Fast-rpcfix'\n",
    "\n",
    "\n",
    "src_config_fnames = glob.glob(os.path.join(L1B_s2p_configs_dir, '**/config.json'), recursive=True)\n",
    "\n",
    "dst_config_fnames = [fn.replace(L1B_s2p_configs_dir, L1A_s2p_configs_dir)  for fn in src_config_fnames]\n",
    "\n",
    "for src_config_fname, dst_config_fname in zip(src_config_fnames, dst_config_fnames):\n",
    "    \n",
    "    os.makedirs(os.path.dirname(dst_config_fname), exist_ok=True)\n",
    "    \n",
    "    config_s2p = loader.load_dict_from_json(src_config_fname)\n",
    "    \n",
    "    # correct image filenames and rpcs\n",
    "    for i in [0,1]:\n",
    "        img_basename = os.path.basename(config_s2p['images'][i]['img'])\n",
    "        img_basename = img_basename.replace('basic_panchromatic', 'basic_l1a_panchromatic')\n",
    "        img_geotiff_path = glob.glob('{}/**/{}'.format(L1A_geotiff_dir, img_basename), recursive=True)[0]\n",
    "        config_s2p['images'][i]['img'] = img_geotiff_path\n",
    "        config_s2p['images'][i]['rpc'] = rpcm.rpc_from_geotiff(img_geotiff_path).__dict__\n",
    "        \n",
    "    # delete roi and utm_bbox if existent\n",
    "    if 'utm_bbx' in config_s2p.keys():\n",
    "        del config_s2p['utm_bbx'] \n",
    "    if 'roi' in config_s2p.keys():\n",
    "        del config_s2p['roi']\n",
    "    \n",
    "    loader.save_dict_to_json(config_s2p, dst_config_fname)\n",
    "    \n",
    "print('done creating L1A config.json')"
   ]
  },
  {
   "cell_type": "markdown",
   "metadata": {},
   "source": [
    "### Compare L1A reconstruction with L1B"
   ]
  },
  {
   "cell_type": "code",
   "execution_count": 95,
   "metadata": {},
   "outputs": [
    {
     "name": "stdout",
     "output_type": "stream",
     "text": [
      "done!\n"
     ]
    }
   ],
   "source": [
    "dsm_L1A = 'exp/morenci_L1A/ba_global/4D/dsms/metrics/avg_per_date/20190128_204710.tif'\n",
    "dsm_L1B = 'exp/morenci_L1B/ba_global/4D/dsms/metrics/avg_per_date/20190128_204710.tif'\n",
    "\n",
    "bin_dir = 'bin'\n",
    "trans = 'exp/morenci_L1A/ba_global/4D/dsms/ncc_shift_L1Balign.txt'  \n",
    "\n",
    "ref_cdsm = dsm_L1B\n",
    "cdsm = dsm_L1A\n",
    "rcdsm = 'exp/morenci_L1A/ba_global/4D/dsms/20190128_204710_L1Balign.tif'\n",
    "diff_dsm = 'exp/morenci_L1A/ba_global/4D/dsms/20190128_204710_L1Balign_diff.tif'\n",
    "diff_filt_dsm = 'exp/morenci_L1A/ba_global/4D/dsms/20190128_204710_L1Balign_diff_filt.tif'\n",
    "\"\"\n",
    "# compute vertical registration on the original DSMs\n",
    "os.system('{}/ncc_compute_shift {} {} 5 {} {} > {}'.format(bin_dir, ref_cdsm, cdsm, 0., 0., trans))\n",
    "\n",
    "# apply the registration\n",
    "os.system('{}/ncc_apply_shift {} `cat {}` {}'.format(bin_dir, cdsm, trans, rcdsm))\n",
    "\n",
    "# do the substraction\n",
    "os.system('{}/plambda {} {} - -o {}'.format(bin_dir, rcdsm, ref_cdsm, diff_dsm))\n",
    "\n",
    "# set all absolute values above 5 as NaN\n",
    "os.system('{0}/plambda {1} fabs | {0}/plambda - \"x 5 < x nan if\" -o {2}'.format(bin_dir, diff_dsm, diff_filt_dsm))\n",
    "\n",
    "print('done!')"
   ]
  },
  {
   "cell_type": "code",
   "execution_count": 5,
   "metadata": {},
   "outputs": [
    {
     "name": "stdout",
     "output_type": "stream",
     "text": [
      "done\n"
     ]
    }
   ],
   "source": [
    "import os\n",
    "bin_dir = 'bin'\n",
    "\n",
    "dsm_1 = 'exp/morenci_L1A_3_repeated/ba_global/4D/metrics/std_per_date/20190128_204710.tif'\n",
    "dsm_2 = 'exp/morenci_L1A_3_repeated/ba_global/4D/metrics/std_per_date/filt_20190128_204710.tif'\n",
    "\n",
    "# set all absolute values above 5 as NaN\n",
    "os.system('{0}/plambda {1} fabs | {0}/plambda - \"x 5 < x nan if\" -o {2}'.format(bin_dir, dsm_1, dsm_2))\n",
    "\n",
    "print('done')"
   ]
  },
  {
   "cell_type": "code",
   "execution_count": 11,
   "metadata": {},
   "outputs": [
    {
     "data": {
      "text/plain": [
       "0.50665617"
      ]
     },
     "execution_count": 11,
     "metadata": {},
     "output_type": "execute_result"
    }
   ],
   "source": [
    "from PIL import Image\n",
    "import numpy as np\n",
    "\n",
    "std_fname = 'exp/morenci_L1A/ba_global/4D/metrics/std_per_date/20190128_204710.tif'\n",
    "\n",
    "np.nanmean(np.array(Image.open(std_fname)).flatten())"
   ]
  },
  {
   "cell_type": "code",
   "execution_count": 10,
   "metadata": {},
   "outputs": [
    {
     "data": {
      "text/plain": [
       "2.3754218"
      ]
     },
     "execution_count": 10,
     "metadata": {},
     "output_type": "execute_result"
    }
   ],
   "source": [
    "std_fname = 'exp/morenci_L1A_rien/init/4D/metrics/std_per_date/20190128_204710.tif'\n",
    "\n",
    "np.nanmean(np.array(Image.open(std_fname)).flatten())"
   ]
  },
  {
   "cell_type": "code",
   "execution_count": 16,
   "metadata": {},
   "outputs": [
    {
     "name": "stdout",
     "output_type": "stream",
     "text": [
      "done\n"
     ]
    }
   ],
   "source": [
    "import glob\n",
    "import os\n",
    "from bundle_adjust import data_loader as loader\n",
    "\n",
    "config_dir = '/home/carlo/for_roger/s103_20190128T174855Z__s103_20190128T174929Z__s103_20190128T175004Z'\n",
    "output_dir = '/home/rogermm14/morenci_extra/s103_20190128T174855Z__s103_20190128T174929Z__s103_20190128T175004Z'\n",
    "for src_fn in glob.glob(config_dir+'/*.json'):\n",
    "    dst_fn = os.path.join(output_dir, '{}/config.json'.format(loader.get_id(src_fn)))\n",
    "    os.makedirs(os.path.dirname(dst_fn), exist_ok=True)\n",
    "    os.system('cp {} {}'.format(src_fn, dst_fn))\n",
    "    \n",
    "print('done')"
   ]
  },
  {
   "cell_type": "code",
   "execution_count": null,
   "metadata": {},
   "outputs": [],
   "source": [
    "import glob\n",
    "import os\n",
    "from bundle_adjust import data_loader as loader\n",
    "\n",
    "config_dir = '/home/carlo/for_roger/s103_20190128T174855Z__s103_20190128T174929Z__s103_20190128T175004Z'\n",
    "output_dir = '/home/rogermm14/morenci_extra/s103_20190128T174855Z__s103_20190128T174929Z__s103_20190128T175004Z'\n",
    "for src_fn in glob.glob(config_dir+'/*.json'):\n",
    "    dst_fn = os.path.join(output_dir, '{}/config.json'.format(loader.get_id(src_fn)))\n",
    "    os.makedirs(os.path.dirname(dst_fn), exist_ok=True)\n",
    "    os.system('cp {} {}'.format(src_fn, dst_fn))\n",
    "    \n",
    "print('done')"
   ]
  },
  {
   "cell_type": "code",
   "execution_count": 17,
   "metadata": {},
   "outputs": [
    {
     "name": "stdout",
     "output_type": "stream",
     "text": [
      "done\n"
     ]
    }
   ],
   "source": [
    "config_dir = '/home/carlo/for_roger/s4_20190127T175045Z__s4_20190127T175119Z__s4_20190127T175154Z'\n",
    "output_dir = '/home/rogermm14/morenci_extra/s4_20190127T175045Z__s4_20190127T175119Z__s4_20190127T175154Z'\n",
    "\n",
    "for src_fn in glob.glob(config_dir+'/*.json'):\n",
    "    dst_fn = os.path.join(output_dir, '{}/config.json'.format(loader.get_id(src_fn)))\n",
    "    os.makedirs(os.path.dirname(dst_fn), exist_ok=True)\n",
    "    os.system('cp {} {}'.format(src_fn, dst_fn))\n",
    "    \n",
    "print('done')"
   ]
  },
  {
   "cell_type": "markdown",
   "metadata": {},
   "source": [
    "### Plot std percentiles"
   ]
  },
  {
   "cell_type": "code",
   "execution_count": 21,
   "metadata": {},
   "outputs": [],
   "source": [
    "data_dict = {#'init': 'exp/morenci_L1A_rien/init/4D/metrics/std_per_date/20190128_204710.tif',$\n",
    "             'L1B_p': 'exp/morenci_L1B/ba_global/4D/metrics/std_per_date/20190128_204710.tif',\n",
    "             'L1A_p': 'exp/morenci_L1A/ba_global/4D/metrics/std_per_date/20190128_204710.tif'}\n",
    "\n"
   ]
  },
  {
   "cell_type": "code",
   "execution_count": 22,
   "metadata": {},
   "outputs": [
    {
     "name": "stderr",
     "output_type": "stream",
     "text": [
      "/home/rogermm14/.local/lib/python3.6/site-packages/PIL/Image.py:2731: DecompressionBombWarning: Image size (141862582 pixels) exceeds limit of 89478485 pixels, could be decompression bomb DOS attack.\n",
      "  DecompressionBombWarning,\n"
     ]
    },
    {
     "name": "stdout",
     "output_type": "stream",
     "text": [
      "data read\n"
     ]
    }
   ],
   "source": [
    "vectors = []\n",
    "for exp_name in data_dict.keys():\n",
    "    \n",
    "    data = np.array(Image.open(data_dict[exp_name])).flatten()\n",
    "    data = data[~np.isnan(data)]\n",
    "    vectors.append(data)\n",
    "\n",
    "print('data read')"
   ]
  },
  {
   "cell_type": "code",
   "execution_count": 23,
   "metadata": {},
   "outputs": [
    {
     "data": {
      "image/png": "[encoded data removed]",
      "text/plain": [
       "<Figure size 432x288 with 1 Axes>"
      ]
     },
     "metadata": {
      "needs_background": "light"
     },
     "output_type": "display_data"
    },
    {
     "name": "stdout",
     "output_type": "stream",
     "text": [
      "order: L1B_p       L1A_p\n"
     ]
    }
   ],
   "source": [
    "plt.figure()\n",
    "plt.boxplot(vectors, 0, '')\n",
    "plt.show()\n",
    "\n",
    "print('order: {}'.format('       '.join(data_dict.keys())))"
   ]
  },
  {
   "cell_type": "code",
   "execution_count": 31,
   "metadata": {},
   "outputs": [
    {
     "name": "stdout",
     "output_type": "stream",
     "text": [
      "0.6008043\n",
      "0.56885666\n"
     ]
    }
   ],
   "source": [
    "from PIL import Image\n",
    "import numpy as np\n",
    "\n",
    "t_id = '20190627_074821' #20190608_075352 #20190617_075138 #20190627_074821\n",
    "\n",
    "std_fname = 'exp/coal_cli/ba_sequential_K30/4D/dsms/std/{}.tif'.format(t_id)\n",
    "std1 = np.nanmean(np.array(Image.open(std_fname)).flatten())\n",
    "\n",
    "std_fname = 'exp/coal_cli/ba_sequential_K0/4D/dsms/std/{}.tif'.format(t_id)\n",
    "std2 = np.nanmean(np.array(Image.open(std_fname)).flatten())\n",
    "\n",
    "print(std1)\n",
    "\n",
    "print(std2)"
   ]
  }
 ],
 "metadata": {
  "kernelspec": {
   "display_name": "Python 3",
   "language": "python",
   "name": "python3"
  },
  "language_info": {
   "codemirror_mode": {
    "name": "ipython",
    "version": 3
   },
   "file_extension": ".py",
   "mimetype": "text/x-python",
   "name": "python",
   "nbconvert_exporter": "python",
   "pygments_lexer": "ipython3",
   "version": "3.6.9"
  },
  "varInspector": {
   "cols": {
    "lenName": 16,
    "lenType": 16,
    "lenVar": 40
   },
   "kernels_config": {
    "python": {
     "delete_cmd_postfix": "",
     "delete_cmd_prefix": "del ",
     "library": "var_list.py",
     "varRefreshCmd": "print(var_dic_list())"
    },
    "r": {
     "delete_cmd_postfix": ") ",
     "delete_cmd_prefix": "rm(",
     "library": "var_list.r",
     "varRefreshCmd": "cat(var_dic_list()) "
    }
   },
   "types_to_exclude": [
    "module",
    "function",
    "builtin_function_or_method",
    "instance",
    "_Feature"
   ],
   "window_display": false
  }
 },
 "nbformat": 4,
 "nbformat_minor": 2
}
