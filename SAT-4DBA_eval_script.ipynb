{
 "cells": [
  {
   "cell_type": "code",
   "execution_count": 1,
   "metadata": {},
   "outputs": [],
   "source": [
    "#%matplotlib notebook\n",
    "import sys\n",
    "import os\n",
    "import glob\n",
    "\n",
    "# Standard modules used through the notebook \n",
    "import numpy as np\n",
    "import matplotlib.pyplot as plt\n",
    "\n",
    "from PIL import Image\n",
    "\n",
    "from bundle_adjust import ba_timeseries\n",
    "import pickle\n",
    "\n",
    "# Display and interface settings (just for the notebook interface)\n",
    "%matplotlib inline\n",
    "%load_ext autoreload\n",
    "%autoreload 2\n",
    "np.set_printoptions(linewidth=150)"
   ]
  },
  {
   "cell_type": "markdown",
   "metadata": {},
   "source": [
    "### Check std single date (in the overlapping areas) and std along time"
   ]
  },
  {
   "cell_type": "code",
   "execution_count": 3,
   "metadata": {},
   "outputs": [
    {
     "name": "stdout",
     "output_type": "stream",
     "text": [
      "bundle adjustment method: ba_OURS_singledate\n",
      "average median std per date: 1.01\n",
      "[1.0095643]\n",
      "median std along time: nan\n"
     ]
    }
   ],
   "source": [
    "output_dir = 'exp/RB_ZAF_0001'\n",
    "ba_method = 'ba_OURS_singledate'\n",
    "\n",
    "# get median std per date\n",
    "std_per_date_fnames = glob.glob(os.path.join(output_dir, '{}/4D/4Dstats/std_per_date/*.tif'.format(ba_method)))\n",
    "stacked_std_per_date = np.dstack([np.array(Image.open(fn)) for fn in std_per_date_fnames])\n",
    "n_dates = stacked_std_per_date.shape[2]\n",
    "median_std_per_date = [np.nanmedian(stacked_std_per_date[:,:,i], axis=(0, 1)) for i in range(n_dates)]\n",
    "                                 \n",
    "# get std along time\n",
    "std_along_time_fname = os.path.join(output_dir, '{}/4D/4Dstats/std_along_time.tif'.format(ba_method))\n",
    "std_along_time = np.array(Image.open(std_along_time_fname))\n",
    "\n",
    "print('bundle adjustment method:', ba_method)\n",
    "\n",
    "print('average median std per date: {:.2f}'.format(np.mean(median_std_per_date)))\n",
    "\n",
    "print(median_std_per_date)\n",
    "\n",
    "print('median std along time: {:.2f}'.format(np.nanmedian(std_along_time, axis=(0, 1))))"
   ]
  },
  {
   "cell_type": "markdown",
   "metadata": {},
   "source": [
    "### Check reprojection error"
   ]
  },
  {
   "cell_type": "code",
   "execution_count": 8,
   "metadata": {},
   "outputs": [
    {
     "name": "stdout",
     "output_type": "stream",
     "text": [
      "#############################################################\n",
      "Loading scene RB_ZAF_0001...\n",
      "\n",
      "Found 85 different dates in the scene timeline\n",
      "\n",
      "Total images in timeline: 560\n",
      "Successfully loaded scene RB_ZAF_0001\n",
      "#############################################################\n",
      "\n",
      "\n",
      "Scene RB_ZAF_0001 characterized using the following example dsm:\n",
      "/home/carlo/dsms-timeseries-for-roger/RB_ZAF_0001/RB_ZAF_0001_dsms/s103_20190627T074821Z__s103_20190627T074854Z__s103_20190627T074931Z.tiff\n",
      "\n",
      "index  |  datetime             |  n_images\n",
      "__________________________________________\n",
      "\n",
      "0      |  2019-06-08 07:53:52  |  5       \n",
      "3      |  2019-06-17 07:51:38  |  9       \n",
      "6      |  2019-06-27 07:48:21  |  7       \n",
      "__________________________________________\n",
      "\n",
      "                                  21 total\n",
      "\n",
      "\n"
     ]
    }
   ],
   "source": [
    "# load scene and timeline indices\n",
    "\n",
    "scene_name = 'RB_ZAF_0001'\n",
    "\n",
    "input_dir = '/home/carlo/dsms-timeseries-for-roger'\n",
    "output_dir = 'exp'\n",
    "\n",
    "scene = ba_timeseries.Scene(input_dir, output_dir, scene_name, 'v1', \\\n",
    "                            compute_aoi_masks=True, use_aoi_masks_to_equalize_crops=False)\n",
    "#scene.display_aoi()\n",
    "\n",
    "source_dsms_dir = '{}/{}_dsms'.format(scene.src_dir, scene_name)\n",
    "example_dsm_fname = os.path.join(source_dsms_dir, \\\n",
    "                                 's103_20190627T074821Z__s103_20190627T074854Z__s103_20190627T074931Z.tiff')\n",
    "scene.characterize_from_example_dsm(example_dsm_fname)\n",
    "#scene.display_dsm_mask()\n",
    "\n",
    "timeline_indices = [0, 3, 6, 7, 8, 9, 11, 12, 13, 14, 15, 16]\n",
    "\n",
    "timeline_indices = timeline_indices[:3]\n",
    "\n",
    "scene.get_timeline_attributes(timeline_indices, ['datetime', 'n_images'])"
   ]
  },
  {
   "cell_type": "code",
   "execution_count": 9,
   "metadata": {},
   "outputs": [],
   "source": [
    "def eval_reprojection_error_from_rpcs(scene, myimages, ba_method, C, pairs_to_triangulate):\n",
    "    \n",
    "    \n",
    "    # load filenames and rpcs\n",
    "    rpcs_init_dir = '{}/RPC_init'.format(scene.dst_dir)\n",
    "    rpcs_init = ba_timeseries.load_rpcs_from_dir(myimages, rpcs_init_dir, suffix='RPC', verbose=True)\n",
    "    rpcs_adj_dir = '{}/{}/RPC_adj'.format(scene.dst_dir, ba_method)\n",
    "    rpcs_adj = ba_timeseries.load_rpcs_from_dir(myimages, rpcs_adj_dir, suffix='RPC_adj', verbose=True)\n",
    "    \n",
    "    # load image crops\n",
    "    mycrops = ba_timeseries.load_image_crops(myimages, verbose=True)\n",
    "    \n",
    "    # init ba\n",
    "    cam_model = 'Perspective'\n",
    "    ba_input_data = {}\n",
    "    ba_input_data['input_dir'] = scene.dst_dir\n",
    "    ba_input_data['output_dir'] = scene.dst_dir\n",
    "    ba_input_data['n_new'] = len(myimages)\n",
    "    ba_input_data['n_adj'] = 0\n",
    "    ba_input_data['image_fnames'] = myimages\n",
    "    ba_input_data['crops'] = mycrops\n",
    "    ba_input_data['masks'] = None\n",
    "    ba_input_data['rpcs'] = rpcs_init\n",
    "    ba_input_data['cam_model'] = cam_model\n",
    "    ba_input_data['aoi'] = scene.aoi_lonlat\n",
    "    from bundle_adjust.ba_pipeline import BundleAdjustmentPipeline\n",
    "    ba_pipeline = BundleAdjustmentPipeline(ba_input_data)\n",
    "    \n",
    "    # approximate rpcs as proj matrices\n",
    "    from bundle_adjust.ba_core import approximate_rpcs_as_proj_matrices\n",
    "    P_crop_ba = approximate_rpcs_as_proj_matrices(rpcs_adj, mycrops, scene.aoi_lonlat, cam_model)\n",
    "    ba_pipeline.P_crop_ba = P_crop_ba\n",
    "        \n",
    "    # init pts 3D\n",
    "    from bundle_adjust.ba_triangulation import initialize_3d_points\n",
    "    pts_3d = initialize_3d_points(ba_pipeline.input_P, C, pairs_to_triangulate, cam_model)\n",
    "    pts_3d_ba = initialize_3d_points(P_crop_ba, C, pairs_to_triangulate, cam_model)\n",
    "        \n",
    "    # compute reprojection error\n",
    "    ba_pipeline.pts_3d = pts_3d\n",
    "    ba_pipeline.pts_3d_ba = pts_3d_ba\n",
    "    ba_pipeline.C = C\n",
    "    avg_init, avg_ba = [], []\n",
    "    for im_idx in range(len(myimages)):\n",
    "        e_init, e_ba, _, _, _ = ba_pipeline.compute_reproj_err_per_image(im_idx)\n",
    "        avg_init.append(np.mean(e_init))\n",
    "        avg_ba.append(np.mean(e_ba))\n",
    "        \n",
    "        #ba_pipeline.analyse_reproj_err_particular_image(im_idx, plot=True)\n",
    "        \n",
    "        print('{:02}: avg init err {:.2f}, avg ba err {:.2f}'.format(im_idx, avg_init[-1], avg_ba[-1]))\n",
    "        \n",
    "    \n",
    "    print('\\nMethod: {} bundle adjustment'.format(ba_method))\n",
    "    print('-----------------------------------------------------------------')\n",
    "    print('\\navg init err per image: {:.2f}'.format(np.mean(avg_init)))\n",
    "    print('\\navg ba err per image: {:.2f}'.format(np.mean(avg_ba)))"
   ]
  },
  {
   "cell_type": "code",
   "execution_count": 11,
   "metadata": {
    "scrolled": false
   },
   "outputs": [
    {
     "ename": "FileNotFoundError",
     "evalue": "[Errno 2] No such file or directory: 'exp/RB_ZAF_0001/ba_ASP_singledate/matches.pickle'",
     "output_type": "error",
     "traceback": [
      "\u001b[0;31m---------------------------------------------------------------------------\u001b[0m",
      "\u001b[0;31mFileNotFoundError\u001b[0m                         Traceback (most recent call last)",
      "\u001b[0;32m<ipython-input-11-6e8d136c5e76>\u001b[0m in \u001b[0;36m<module>\u001b[0;34m\u001b[0m\n\u001b[1;32m      1\u001b[0m \u001b[0mba_method\u001b[0m \u001b[0;34m=\u001b[0m \u001b[0;34m'ba_ASP_singledate'\u001b[0m \u001b[0;31m#'out-of-core'\u001b[0m\u001b[0;34m\u001b[0m\u001b[0;34m\u001b[0m\u001b[0m\n\u001b[1;32m      2\u001b[0m \u001b[0;34m\u001b[0m\u001b[0m\n\u001b[0;32m----> 3\u001b[0;31m \u001b[0mpickle_in\u001b[0m \u001b[0;34m=\u001b[0m \u001b[0mopen\u001b[0m\u001b[0;34m(\u001b[0m\u001b[0;34m'{}/{}/matches.pickle'\u001b[0m\u001b[0;34m.\u001b[0m\u001b[0mformat\u001b[0m\u001b[0;34m(\u001b[0m\u001b[0mscene\u001b[0m\u001b[0;34m.\u001b[0m\u001b[0mdst_dir\u001b[0m\u001b[0;34m,\u001b[0m \u001b[0mba_method\u001b[0m\u001b[0;34m)\u001b[0m\u001b[0;34m,\u001b[0m\u001b[0;34m'rb'\u001b[0m\u001b[0;34m)\u001b[0m\u001b[0;34m\u001b[0m\u001b[0;34m\u001b[0m\u001b[0m\n\u001b[0m\u001b[1;32m      4\u001b[0m \u001b[0mpairwise_matches\u001b[0m \u001b[0;34m=\u001b[0m \u001b[0mpickle\u001b[0m\u001b[0;34m.\u001b[0m\u001b[0mload\u001b[0m\u001b[0;34m(\u001b[0m\u001b[0mpickle_in\u001b[0m\u001b[0;34m)\u001b[0m\u001b[0;34m\u001b[0m\u001b[0;34m\u001b[0m\u001b[0m\n\u001b[1;32m      5\u001b[0m \u001b[0mpickle_in\u001b[0m \u001b[0;34m=\u001b[0m \u001b[0mopen\u001b[0m\u001b[0;34m(\u001b[0m\u001b[0;34m'{}/{}/pairs_triangulation.pickle'\u001b[0m\u001b[0;34m.\u001b[0m\u001b[0mformat\u001b[0m\u001b[0;34m(\u001b[0m\u001b[0mscene\u001b[0m\u001b[0;34m.\u001b[0m\u001b[0mdst_dir\u001b[0m\u001b[0;34m,\u001b[0m \u001b[0mba_method\u001b[0m\u001b[0;34m)\u001b[0m\u001b[0;34m,\u001b[0m\u001b[0;34m'rb'\u001b[0m\u001b[0;34m)\u001b[0m\u001b[0;34m\u001b[0m\u001b[0;34m\u001b[0m\u001b[0m\n",
      "\u001b[0;31mFileNotFoundError\u001b[0m: [Errno 2] No such file or directory: 'exp/RB_ZAF_0001/ba_ASP_singledate/matches.pickle'"
     ]
    }
   ],
   "source": [
    "ba_method = 'ba_ASP_singledate' #'out-of-core'\n",
    "\n",
    "pickle_in = open('{}/{}/matches.pickle'.format(scene.dst_dir, ba_method),'rb')\n",
    "pairwise_matches = pickle.load(pickle_in)\n",
    "pickle_in = open('{}/{}/pairs_triangulation.pickle'.format(scene.dst_dir, ba_method),'rb')\n",
    "pairs_to_triangulate = pickle.load(pickle_in)\n",
    "pickle_in = open('{}/{}/filenames.pickle'.format(scene.dst_dir, ba_method),'rb')\n",
    "myimages = pickle.load(pickle_in)\n",
    "\n",
    "\n",
    "#forbbiden_pairs = [(1,12), (12,16)]\n",
    "#if len(forbbiden_pairs) >0:\n",
    "#    pairs_to_triangulate = list(set(pairs_to_triangulate) - set(forbbiden_pairs))\n",
    "\n",
    "#allowed_im_indices = [14, 15, 16, 17, 18, 19, 20]\n",
    "#allowed_pairs = [(im_i, im_j) for im_i in allowed_im_indices for im_j in allowed_im_indices if im_i != im_j and im_i<im_j]\n",
    "\n",
    "#allowed_pairs = [(1,12), (12,16)]\n",
    "#pairs_to_triangulate = list(set(pairs_to_triangulate).intersection(set(allowed_pairs)))\n",
    "\n",
    "\n",
    "features = []\n",
    "for fn in myimages:\n",
    "    f_id = os.path.splitext(os.path.basename(fn))[0]\n",
    "    features.append(pickle.load(open('{}/{}/features/{}.pickle'.format(scene.dst_dir, ba_method, f_id),'rb')))\n",
    "    \n",
    "from feature_tracks.ft_utils import feature_tracks_from_pairwise_matches\n",
    "C, _ = feature_tracks_from_pairwise_matches(features, pairwise_matches, pairs_to_triangulate)\n",
    "\n",
    "print('Using {} feature tracks\\n'.format(C.shape))\n",
    "\n",
    "print('pairs to triangulate:', pairs_to_triangulate)"
   ]
  },
  {
   "cell_type": "code",
   "execution_count": 27,
   "metadata": {
    "scrolled": false
   },
   "outputs": [
    {
     "name": "stdout",
     "output_type": "stream",
     "text": [
      "Loading 84 image rpcs / 84\n",
      "\n",
      "Loading 84 image rpcs / 84\n",
      "\n",
      "Loading 84 image crops / 84\n",
      "\n",
      "Approximating RPCs as Perspective projection matrices\n",
      "84 projection matrices / 84 (0 err)\n",
      "Done!\n",
      "\n",
      "Approximating RPCs as Perspective projection matrices\n",
      "84 projection matrices / 84 (0 err)\n",
      "Done!\n",
      "\n",
      "00: avg init err 0.94, avg ba err 0.46\n",
      "01: avg init err 1.46, avg ba err 0.57\n",
      "02: avg init err 4.50, avg ba err 0.50\n",
      "03: avg init err 6.62, avg ba err 0.52\n",
      "04: avg init err 0.52, avg ba err 0.38\n",
      "05: avg init err 0.96, avg ba err 0.50\n",
      "06: avg init err 1.37, avg ba err 0.78\n",
      "07: avg init err 2.08, avg ba err 0.80\n",
      "08: avg init err 1.15, avg ba err 0.39\n",
      "09: avg init err 1.19, avg ba err 0.48\n",
      "10: avg init err 0.80, avg ba err 0.32\n",
      "11: avg init err 0.61, avg ba err 0.30\n",
      "12: avg init err 1.25, avg ba err 0.56\n",
      "13: avg init err 0.94, avg ba err 0.34\n",
      "14: avg init err 1.22, avg ba err 0.41\n",
      "15: avg init err 1.42, avg ba err 0.64\n",
      "16: avg init err 1.05, avg ba err 0.46\n",
      "17: avg init err 1.33, avg ba err 0.43\n",
      "18: avg init err 0.92, avg ba err 0.33\n",
      "19: avg init err 1.01, avg ba err 0.39\n",
      "20: avg init err 0.71, avg ba err 0.36\n",
      "21: avg init err 1.14, avg ba err 0.56\n",
      "22: avg init err 1.03, avg ba err 0.39\n",
      "23: avg init err 0.72, avg ba err 0.36\n",
      "24: avg init err 1.90, avg ba err 0.38\n",
      "25: avg init err 1.37, avg ba err 0.62\n",
      "26: avg init err 1.40, avg ba err 0.45\n",
      "27: avg init err 1.24, avg ba err 0.33\n",
      "28: avg init err 0.88, avg ba err 0.29\n",
      "29: avg init err 2.16, avg ba err 0.55\n",
      "30: avg init err 0.88, avg ba err 0.60\n",
      "31: avg init err 1.31, avg ba err 0.49\n",
      "32: avg init err 1.20, avg ba err 0.33\n",
      "33: avg init err 2.29, avg ba err 0.52\n",
      "34: avg init err 0.71, avg ba err 0.32\n",
      "35: avg init err 0.79, avg ba err 0.29\n",
      "36: avg init err 1.35, avg ba err 0.54\n",
      "37: avg init err 0.84, avg ba err 0.37\n",
      "38: avg init err 0.58, avg ba err 0.26\n",
      "39: avg init err 1.15, avg ba err 0.47\n",
      "40: avg init err 0.71, avg ba err 0.29\n",
      "41: avg init err 1.94, avg ba err 0.43\n",
      "42: avg init err 1.26, avg ba err 0.66\n",
      "43: avg init err 0.76, avg ba err 0.41\n",
      "44: avg init err 2.98, avg ba err 0.58\n",
      "45: avg init err 0.92, avg ba err 0.36\n",
      "46: avg init err 1.27, avg ba err 0.49\n",
      "47: avg init err 1.76, avg ba err 0.48\n",
      "48: avg init err 0.97, avg ba err 0.33\n",
      "49: avg init err 1.05, avg ba err 0.37\n",
      "50: avg init err 1.48, avg ba err 0.51\n",
      "51: avg init err 0.93, avg ba err 0.39\n",
      "52: avg init err 1.07, avg ba err 0.29\n",
      "53: avg init err 2.38, avg ba err 0.66\n",
      "54: avg init err 4.26, avg ba err 0.34\n",
      "55: avg init err 0.81, avg ba err 0.46\n",
      "56: avg init err 1.53, avg ba err 0.53\n",
      "57: avg init err 0.54, avg ba err 0.27\n",
      "58: avg init err 3.39, avg ba err 0.22\n",
      "59: avg init err 1.45, avg ba err 0.59\n",
      "60: avg init err 0.59, avg ba err 0.26\n",
      "61: avg init err 1.21, avg ba err 0.50\n",
      "62: avg init err 0.94, avg ba err 0.71\n",
      "63: avg init err 1.43, avg ba err 0.43\n",
      "64: avg init err 1.17, avg ba err 0.65\n",
      "65: avg init err 0.78, avg ba err 0.29\n",
      "66: avg init err 1.11, avg ba err 0.58\n",
      "67: avg init err 1.20, avg ba err 0.50\n",
      "68: avg init err 1.01, avg ba err 0.35\n",
      "69: avg init err 1.15, avg ba err 0.37\n",
      "70: avg init err 2.13, avg ba err 0.62\n",
      "71: avg init err 1.26, avg ba err 0.32\n",
      "72: avg init err 1.31, avg ba err 0.51\n",
      "73: avg init err 0.84, avg ba err 0.35\n",
      "74: avg init err 0.59, avg ba err 0.25\n",
      "75: avg init err 0.82, avg ba err 0.58\n",
      "76: avg init err 0.97, avg ba err 0.33\n",
      "77: avg init err 1.04, avg ba err 0.56\n",
      "78: avg init err 1.06, avg ba err 0.47\n",
      "79: avg init err 0.73, avg ba err 0.52\n",
      "80: avg init err 1.71, avg ba err 0.32\n",
      "81: avg init err 1.10, avg ba err 0.31\n",
      "82: avg init err 0.63, avg ba err 0.51\n",
      "83: avg init err 1.59, avg ba err 0.50\n",
      "\n",
      "Method: ba_out-of-core_12D_9k bundle adjustment\n",
      "-----------------------------------------------------------------\n",
      "\n",
      "avg init err per image: 1.34\n",
      "\n",
      "avg ba err per image: 0.45\n"
     ]
    }
   ],
   "source": [
    "eval_reprojection_error_from_rpcs(scene, myimages, ba_method, C, pairs_to_triangulate)"
   ]
  },
  {
   "cell_type": "code",
   "execution_count": 408,
   "metadata": {},
   "outputs": [
    {
     "name": "stdout",
     "output_type": "stream",
     "text": [
      "[R1 | t1] = [R2 | t2] @ [R21 | t21] ? True\n",
      "Found a rotation of 0.24595336226186001 degrees between both cameras\n",
      "\n"
     ]
    },
    {
     "data": {
      "text/plain": [
       "False"
      ]
     },
     "execution_count": 408,
     "metadata": {},
     "output_type": "execute_result"
    }
   ],
   "source": [
    "P1 = np.array([[ 4.85128086e-02, -8.83537890e-02,  1.40268335e-03,  3.66886552e+04],\n",
    "               [ 3.97942353e-02,  2.32994575e-02,  8.98703082e-02,  1.70862603e+04],\n",
    "               [-1.08059602e-07, -5.74392857e-08,  7.96691137e-08,  1.00000000e+00]])\n",
    "\n",
    "P2 =  np.array([[ 4.85869516e-02, -8.82992204e-02,  1.35108588e-03,  3.60184995e+04],\n",
    "                [ 3.95414376e-02,  2.31577511e-02,  9.00036459e-02,  1.90280930e+04],\n",
    "                [-1.08160881e-07, -5.78021362e-08,  7.91655350e-08,  1.00000000e+00]])\n",
    "\n",
    "from bundle_adjust import ba_utils\n",
    "\n",
    "Pr = ba_utils.relative_extrinsic_matrix_between_two_proj_matrices(P2, P1, verbose=True)\n",
    "\n",
    "np.allclose(P2, P1 @ Pr)"
   ]
  },
  {
   "cell_type": "code",
   "execution_count": 410,
   "metadata": {},
   "outputs": [],
   "source": [
    "from bundle_adjust import ba_core\n",
    "\n",
    "k1, r1, t1, o1 = ba_core.decompose_perspective_camera(P1)\n",
    "\n",
    "ext1 = np.hstack(( r1, t1[:, np.newaxis] ))"
   ]
  },
  {
   "cell_type": "code",
   "execution_count": 411,
   "metadata": {},
   "outputs": [
    {
     "data": {
      "text/plain": [
       "True"
      ]
     },
     "execution_count": 411,
     "metadata": {},
     "output_type": "execute_result"
    }
   ],
   "source": [
    "np.allclose( P1, k1 @ ext1)"
   ]
  },
  {
   "cell_type": "code",
   "execution_count": 412,
   "metadata": {},
   "outputs": [
    {
     "data": {
      "text/plain": [
       "True"
      ]
     },
     "execution_count": 412,
     "metadata": {},
     "output_type": "execute_result"
    }
   ],
   "source": [
    "np.allclose(P2, k2 @ ext1 @ Pr)"
   ]
  }
 ],
 "metadata": {
  "kernelspec": {
   "display_name": "Python 3",
   "language": "python",
   "name": "python3"
  },
  "language_info": {
   "codemirror_mode": {
    "name": "ipython",
    "version": 3
   },
   "file_extension": ".py",
   "mimetype": "text/x-python",
   "name": "python",
   "nbconvert_exporter": "python",
   "pygments_lexer": "ipython3",
   "version": "3.6.9"
  },
  "varInspector": {
   "cols": {
    "lenName": 16,
    "lenType": 16,
    "lenVar": 40
   },
   "kernels_config": {
    "python": {
     "delete_cmd_postfix": "",
     "delete_cmd_prefix": "del ",
     "library": "var_list.py",
     "varRefreshCmd": "print(var_dic_list())"
    },
    "r": {
     "delete_cmd_postfix": ") ",
     "delete_cmd_prefix": "rm(",
     "library": "var_list.r",
     "varRefreshCmd": "cat(var_dic_list()) "
    }
   },
   "position": {
    "height": "144.545px",
    "left": "1313.55px",
    "right": "20px",
    "top": "162px",
    "width": "350px"
   },
   "types_to_exclude": [
    "module",
    "function",
    "builtin_function_or_method",
    "instance",
    "_Feature"
   ],
   "window_display": false
  }
 },
 "nbformat": 4,
 "nbformat_minor": 2
}
