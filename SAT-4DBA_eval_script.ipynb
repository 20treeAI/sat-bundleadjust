{
 "cells": [
  {
   "cell_type": "code",
   "execution_count": 10,
   "metadata": {},
   "outputs": [
    {
     "name": "stdout",
     "output_type": "stream",
     "text": [
      "The autoreload extension is already loaded. To reload it, use:\n",
      "  %reload_ext autoreload\n"
     ]
    }
   ],
   "source": [
    "#%matplotlib notebook\n",
    "import sys\n",
    "import os\n",
    "import glob\n",
    "\n",
    "# Standard modules used through the notebook \n",
    "import numpy as np\n",
    "import matplotlib.pyplot as plt\n",
    "\n",
    "from PIL import Image\n",
    "\n",
    "from bundle_adjust import data_loader as loader\n",
    "from bundle_adjust import ba_timeseries\n",
    "import pickle\n",
    "\n",
    "# Display and interface settings (just for the notebook interface)\n",
    "%matplotlib inline\n",
    "%load_ext autoreload\n",
    "%autoreload 2\n",
    "np.set_printoptions(linewidth=150)"
   ]
  },
  {
   "cell_type": "markdown",
   "metadata": {},
   "source": [
    "### Check std single date (in the overlapping areas) and std along time"
   ]
  },
  {
   "cell_type": "code",
   "execution_count": 3,
   "metadata": {},
   "outputs": [
    {
     "ename": "ValueError",
     "evalue": "need at least one array to concatenate",
     "output_type": "error",
     "traceback": [
      "\u001b[0;31m---------------------------------------------------------------------------\u001b[0m",
      "\u001b[0;31mValueError\u001b[0m                                Traceback (most recent call last)",
      "\u001b[0;32m<ipython-input-3-74aebea899e9>\u001b[0m in \u001b[0;36m<module>\u001b[0;34m\u001b[0m\n\u001b[1;32m      4\u001b[0m \u001b[0;31m# get median std per date\u001b[0m\u001b[0;34m\u001b[0m\u001b[0;34m\u001b[0m\u001b[0;34m\u001b[0m\u001b[0m\n\u001b[1;32m      5\u001b[0m \u001b[0mstd_per_date_fnames\u001b[0m \u001b[0;34m=\u001b[0m \u001b[0mglob\u001b[0m\u001b[0;34m.\u001b[0m\u001b[0mglob\u001b[0m\u001b[0;34m(\u001b[0m\u001b[0mos\u001b[0m\u001b[0;34m.\u001b[0m\u001b[0mpath\u001b[0m\u001b[0;34m.\u001b[0m\u001b[0mjoin\u001b[0m\u001b[0;34m(\u001b[0m\u001b[0moutput_dir\u001b[0m\u001b[0;34m,\u001b[0m \u001b[0;34m'{}/4D/4Dstats/std_per_date/*.tif'\u001b[0m\u001b[0;34m.\u001b[0m\u001b[0mformat\u001b[0m\u001b[0;34m(\u001b[0m\u001b[0mba_method\u001b[0m\u001b[0;34m)\u001b[0m\u001b[0;34m)\u001b[0m\u001b[0;34m)\u001b[0m\u001b[0;34m\u001b[0m\u001b[0;34m\u001b[0m\u001b[0m\n\u001b[0;32m----> 6\u001b[0;31m \u001b[0mstacked_std_per_date\u001b[0m \u001b[0;34m=\u001b[0m \u001b[0mnp\u001b[0m\u001b[0;34m.\u001b[0m\u001b[0mdstack\u001b[0m\u001b[0;34m(\u001b[0m\u001b[0;34m[\u001b[0m\u001b[0mnp\u001b[0m\u001b[0;34m.\u001b[0m\u001b[0marray\u001b[0m\u001b[0;34m(\u001b[0m\u001b[0mImage\u001b[0m\u001b[0;34m.\u001b[0m\u001b[0mopen\u001b[0m\u001b[0;34m(\u001b[0m\u001b[0mfn\u001b[0m\u001b[0;34m)\u001b[0m\u001b[0;34m)\u001b[0m \u001b[0;32mfor\u001b[0m \u001b[0mfn\u001b[0m \u001b[0;32min\u001b[0m \u001b[0mstd_per_date_fnames\u001b[0m\u001b[0;34m]\u001b[0m\u001b[0;34m)\u001b[0m\u001b[0;34m\u001b[0m\u001b[0;34m\u001b[0m\u001b[0m\n\u001b[0m\u001b[1;32m      7\u001b[0m \u001b[0mn_dates\u001b[0m \u001b[0;34m=\u001b[0m \u001b[0mstacked_std_per_date\u001b[0m\u001b[0;34m.\u001b[0m\u001b[0mshape\u001b[0m\u001b[0;34m[\u001b[0m\u001b[0;36m2\u001b[0m\u001b[0;34m]\u001b[0m\u001b[0;34m\u001b[0m\u001b[0;34m\u001b[0m\u001b[0m\n\u001b[1;32m      8\u001b[0m \u001b[0mmedian_std_per_date\u001b[0m \u001b[0;34m=\u001b[0m \u001b[0;34m[\u001b[0m\u001b[0mnp\u001b[0m\u001b[0;34m.\u001b[0m\u001b[0mnanmedian\u001b[0m\u001b[0;34m(\u001b[0m\u001b[0mstacked_std_per_date\u001b[0m\u001b[0;34m[\u001b[0m\u001b[0;34m:\u001b[0m\u001b[0;34m,\u001b[0m\u001b[0;34m:\u001b[0m\u001b[0;34m,\u001b[0m\u001b[0mi\u001b[0m\u001b[0;34m]\u001b[0m\u001b[0;34m,\u001b[0m \u001b[0maxis\u001b[0m\u001b[0;34m=\u001b[0m\u001b[0;34m(\u001b[0m\u001b[0;36m0\u001b[0m\u001b[0;34m,\u001b[0m \u001b[0;36m1\u001b[0m\u001b[0;34m)\u001b[0m\u001b[0;34m)\u001b[0m \u001b[0;32mfor\u001b[0m \u001b[0mi\u001b[0m \u001b[0;32min\u001b[0m \u001b[0mrange\u001b[0m\u001b[0;34m(\u001b[0m\u001b[0mn_dates\u001b[0m\u001b[0;34m)\u001b[0m\u001b[0;34m]\u001b[0m\u001b[0;34m\u001b[0m\u001b[0;34m\u001b[0m\u001b[0m\n",
      "\u001b[0;32m<__array_function__ internals>\u001b[0m in \u001b[0;36mdstack\u001b[0;34m(*args, **kwargs)\u001b[0m\n",
      "\u001b[0;32m~/.local/lib/python3.6/site-packages/numpy/lib/shape_base.py\u001b[0m in \u001b[0;36mdstack\u001b[0;34m(tup)\u001b[0m\n\u001b[1;32m    704\u001b[0m     \u001b[0;32mif\u001b[0m \u001b[0;32mnot\u001b[0m \u001b[0misinstance\u001b[0m\u001b[0;34m(\u001b[0m\u001b[0marrs\u001b[0m\u001b[0;34m,\u001b[0m \u001b[0mlist\u001b[0m\u001b[0;34m)\u001b[0m\u001b[0;34m:\u001b[0m\u001b[0;34m\u001b[0m\u001b[0;34m\u001b[0m\u001b[0m\n\u001b[1;32m    705\u001b[0m         \u001b[0marrs\u001b[0m \u001b[0;34m=\u001b[0m \u001b[0;34m[\u001b[0m\u001b[0marrs\u001b[0m\u001b[0;34m]\u001b[0m\u001b[0;34m\u001b[0m\u001b[0;34m\u001b[0m\u001b[0m\n\u001b[0;32m--> 706\u001b[0;31m     \u001b[0;32mreturn\u001b[0m \u001b[0m_nx\u001b[0m\u001b[0;34m.\u001b[0m\u001b[0mconcatenate\u001b[0m\u001b[0;34m(\u001b[0m\u001b[0marrs\u001b[0m\u001b[0;34m,\u001b[0m \u001b[0;36m2\u001b[0m\u001b[0;34m)\u001b[0m\u001b[0;34m\u001b[0m\u001b[0;34m\u001b[0m\u001b[0m\n\u001b[0m\u001b[1;32m    707\u001b[0m \u001b[0;34m\u001b[0m\u001b[0m\n\u001b[1;32m    708\u001b[0m \u001b[0;34m\u001b[0m\u001b[0m\n",
      "\u001b[0;32m<__array_function__ internals>\u001b[0m in \u001b[0;36mconcatenate\u001b[0;34m(*args, **kwargs)\u001b[0m\n",
      "\u001b[0;31mValueError\u001b[0m: need at least one array to concatenate"
     ]
    }
   ],
   "source": [
    "output_dir = 'exp/mine_L1A'\n",
    "ba_method = 'ba_global'\n",
    "\n",
    "# get median std per date\n",
    "std_per_date_fnames = glob.glob(os.path.join(output_dir, '{}/4D/4Dstats/std_per_date/*.tif'.format(ba_method)))\n",
    "stacked_std_per_date = np.dstack([np.array(Image.open(fn)) for fn in std_per_date_fnames])\n",
    "n_dates = stacked_std_per_date.shape[2]\n",
    "median_std_per_date = [np.nanmedian(stacked_std_per_date[:,:,i], axis=(0, 1)) for i in range(n_dates)]\n",
    "                                 \n",
    "# get std along time\n",
    "std_along_time_fname = os.path.join(output_dir, '{}/4D/4Dstats/std_along_time.tif'.format(ba_method))\n",
    "std_along_time = np.array(Image.open(std_along_time_fname))\n",
    "\n",
    "print('bundle adjustment method:', ba_method)\n",
    "\n",
    "print('average median std per date: {:.2f}'.format(np.mean(median_std_per_date)))\n",
    "\n",
    "print(median_std_per_date)\n",
    "\n",
    "print('median std along time: {:.2f}'.format(np.nanmedian(std_along_time, axis=(0, 1))))"
   ]
  },
  {
   "cell_type": "markdown",
   "metadata": {},
   "source": [
    "### Check reprojection error"
   ]
  },
  {
   "cell_type": "code",
   "execution_count": 4,
   "metadata": {},
   "outputs": [
    {
     "name": "stdout",
     "output_type": "stream",
     "text": [
      "#############################################################\n",
      "\n",
      "Loading scene from morenci_L1A_config.json\n",
      "\n",
      "-------------------------------------------------------------\n",
      "Configuration:\n",
      "    - images_dir:      /home/anger/for_roger/L1A_Fast-rpcfix\n",
      "    - s2p_configs_dir: /home/anger/for_roger/s2p\n",
      "    - rpc_src:         geotiff\n",
      "    - output_dir:      exp/mine_L1A\n",
      "-------------------------------------------------------------\n",
      "\n",
      "Defining aoi from s2p config.json files... 233 / 233 done\n",
      "\n",
      "Number of acquisition dates: 1 (from 2019-01-28 to 2019-01-28)\n",
      "Number of images: 101\n",
      "The aoi covers a total of 61.63 squared km:\n",
      "\n",
      "#############################################################\n",
      "\n",
      "\n"
     ]
    },
    {
     "data": {
      "application/vnd.jupyter.widget-view+json": {
       "model_id": "e3a93edea77f4b4f9a75baae210fbea9",
       "version_major": 2,
       "version_minor": 0
      },
      "text/plain": [
       "Map(basemap={'url': 'https://{s}.tile.openstreetmap.org/{z}/{x}/{y}.png', 'max_zoom': 19, 'attribution': 'Map …"
      ]
     },
     "metadata": {},
     "output_type": "display_data"
    }
   ],
   "source": [
    "scene = ba_timeseries.Scene('morenci_L1A_config.json')\n",
    "scene.display_aoi()"
   ]
  },
  {
   "cell_type": "code",
   "execution_count": 5,
   "metadata": {},
   "outputs": [
    {
     "name": "stdout",
     "output_type": "stream",
     "text": [
      "index  |  datetime             |  n_images\n",
      "__________________________________________\n",
      "\n",
      "0      |  2019-01-28 20:47:10  |  101     \n",
      "__________________________________________\n",
      "\n",
      "                                  101 total\n",
      "\n",
      "\n"
     ]
    }
   ],
   "source": [
    "# load scene and timeline indices\n",
    "timeline_indices = [0]\n",
    "\n",
    "scene.get_timeline_attributes(timeline_indices, ['datetime', 'n_images'])"
   ]
  },
  {
   "cell_type": "code",
   "execution_count": 16,
   "metadata": {},
   "outputs": [],
   "source": [
    "def eval_reprojection_error_from_rpcs(scene, myimages, ba_method, C, pairs_to_triangulate):\n",
    "    \n",
    "    \n",
    "    # load filenames and rpcs\n",
    "    rpcs_init_dir = '{}/RPC_init'.format(scene.dst_dir)\n",
    "    rpcs_init = loader.load_rpcs_from_dir(myimages, rpcs_init_dir, suffix='RPC', verbose=True)\n",
    "    rpcs_adj_dir = '{}/{}/RPC_adj'.format(scene.dst_dir, ba_method)\n",
    "    rpcs_adj = loader.load_rpcs_from_dir(myimages, rpcs_adj_dir, suffix='RPC_adj', verbose=True)\n",
    "    \n",
    "    # load image crops\n",
    "    mycrops = loader.load_image_crops(myimages, verbose=True)\n",
    "    \n",
    "    # init ba\n",
    "    cam_model = 'Perspective'\n",
    "    ba_input_data = {}\n",
    "    ba_input_data['input_dir'] = scene.dst_dir\n",
    "    ba_input_data['output_dir'] = scene.dst_dir\n",
    "    ba_input_data['n_new'] = len(myimages)\n",
    "    ba_input_data['n_adj'] = 0\n",
    "    ba_input_data['image_fnames'] = myimages\n",
    "    ba_input_data['crops'] = mycrops\n",
    "    ba_input_data['masks'] = None\n",
    "    ba_input_data['rpcs'] = rpcs_init\n",
    "    ba_input_data['cam_model'] = cam_model\n",
    "    ba_input_data['aoi'] = scene.aoi_lonlat\n",
    "    from bundle_adjust.ba_pipeline import BundleAdjustmentPipeline\n",
    "    ba_pipeline = BundleAdjustmentPipeline(ba_input_data)\n",
    "    \n",
    "    # approximate rpcs as proj matrices\n",
    "    from bundle_adjust.ba_core import approximate_rpcs_as_proj_matrices\n",
    "    P_crop_ba = approximate_rpcs_as_proj_matrices(rpcs_adj, mycrops, scene.aoi_lonlat, cam_model)\n",
    "    ba_pipeline.P_crop_ba = P_crop_ba\n",
    "        \n",
    "    # init pts 3D\n",
    "    from bundle_adjust.ba_triangulation import initialize_3d_points\n",
    "    pts_3d = initialize_3d_points(ba_pipeline.input_P, C, pairs_to_triangulate, cam_model)\n",
    "    pts_3d_ba = initialize_3d_points(P_crop_ba, C, pairs_to_triangulate, cam_model)\n",
    "        \n",
    "    # compute reprojection error\n",
    "    ba_pipeline.pts_3d = pts_3d\n",
    "    ba_pipeline.pts_3d_ba = pts_3d_ba\n",
    "    ba_pipeline.C = C\n",
    "    avg_init, avg_ba = [], []\n",
    "    for im_idx, fn in enumerate(myimages):\n",
    "        e_init, e_ba, _, _, _ = ba_pipeline.compute_reproj_err_per_image(im_idx)\n",
    "        avg_init.append(np.mean(e_init))\n",
    "        avg_ba.append(np.mean(e_ba))\n",
    "        \n",
    "        #ba_pipeline.analyse_reproj_err_particular_image(im_idx, plot=True)\n",
    "        \n",
    "        print('{:02}: avg init err {:.2f}, avg ba err {:.2f}       {}'.format(im_idx, \n",
    "                                                                              avg_init[-1],\n",
    "                                                                              avg_ba[-1],\n",
    "                                                                              os.path.basename(fn)))\n",
    "        \n",
    "    \n",
    "    print('\\nMethod: {} bundle adjustment'.format(ba_method))\n",
    "    print('-----------------------------------------------------------------')\n",
    "    print('\\navg init err per image: {:.2f}'.format(np.mean(avg_init)))\n",
    "    print('\\navg ba err per image: {:.2f}'.format(np.mean(avg_ba)))"
   ]
  },
  {
   "cell_type": "code",
   "execution_count": 12,
   "metadata": {
    "scrolled": false
   },
   "outputs": [
    {
     "name": "stdout",
     "output_type": "stream",
     "text": [
      "C.shape before baseline check (202, 29577)\n",
      "C.shape after baseline check (202, 20678)\n",
      "Using (202, 20678) feature tracks\n",
      "\n",
      "pairs to triangulate: [(4, 41), (3, 35), (3, 97), (28, 41), (44, 70), (69, 77), (0, 76), (29, 44), (52, 73), (42, 97), (38, 86), (46, 78), (37, 97), (57, 86), (20, 48), (28, 88), (29, 70), (34, 80), (65, 89), (52, 98), (64, 88), (20, 75), (55, 78), (6, 98), (36, 89), (12, 94), (37, 85), (36, 84), (51, 73), (44, 97), (49, 73), (60, 81), (13, 35), (0, 45), (14, 77), (62, 75), (11, 78), (34, 79), (59, 72), (5, 34), (18, 65), (41, 90), (48, 80), (15, 52), (38, 92), (12, 39), (63, 83), (67, 96), (50, 90), (53, 73), (61, 97), (1, 38), (49, 89), (6, 86), (19, 96), (40, 92), (26, 38), (47, 90), (29, 59), (27, 87), (42, 94), (19, 70), (9, 34), (8, 54), (35, 96), (58, 93), (39, 88), (51, 78), (6, 57), (23, 65), (4, 84), (11, 57), (34, 91), (14, 75), (3, 96), (16, 72), (22, 69), (53, 99), (18, 71), (2, 64), (69, 89), (7, 37), (16, 32), (10, 58), (68, 88), (11, 51), (60, 88), (17, 50), (13, 97), (17, 71), (23, 49), (65, 77), (4, 47), (6, 99), (30, 43), (24, 64), (57, 99), (58, 83), (63, 95), (54, 94), (10, 63), (3, 67), (29, 72), (2, 50), (9, 79), (15, 99), (22, 49), (59, 70), (23, 52), (22, 36), (14, 65), (27, 43), (22, 43), (31, 99), (19, 74), (48, 78), (33, 84), (21, 83), (18, 77), (60, 100), (12, 32), (11, 40), (25, 51), (8, 85), (32, 88), (61, 96), (26, 40), (5, 79), (65, 75), (2, 81), (17, 82), (22, 89), (48, 75), (1, 86), (26, 91), (16, 95), (24, 60), (58, 90), (17, 33), (50, 81), (4, 90), (11, 55), (25, 46), (28, 64), (10, 93), (27, 98), (5, 66), (32, 72), (45, 96), (20, 80), (56, 93), (29, 61), (2, 82), (7, 76), (24, 81), (13, 68), (53, 98), (26, 92), (61, 74), (33, 82), (32, 95), (33, 71), (13, 94), (12, 42), (28, 90), (43, 89), (50, 82), (21, 32), (6, 31), (22, 47), (30, 87), (12, 88), (23, 46), (21, 95), (11, 91), (66, 79), (24, 54), (46, 73), (68, 94), (18, 33), (23, 89), (45, 76), (27, 52), (1, 57), (15, 98), (37, 76), (62, 73), (10, 83), (30, 93), (13, 59), (54, 100), (9, 80), (25, 78), (44, 74), (30, 56), (54, 85), (31, 78), (29, 74), (23, 73), (24, 100), (64, 81), (12, 68), (28, 39), (8, 37), (25, 73), (56, 84), (61, 70), (52, 87), (7, 85), (39, 90), (19, 61), (7, 45), (15, 53), (20, 62), (67, 97), (26, 66), (43, 93), (16, 59), (21, 63), (59, 94), (55, 91), (40, 91), (8, 100), (22, 84), (66, 92), (14, 62), (47, 84), (18, 69), (35, 97), (69, 71), (6, 53), (10, 56), (9, 48), (43, 87), (57, 91), (13, 42)]\n"
     ]
    }
   ],
   "source": [
    "ba_method = 'ba_global' #'out-of-core'\n",
    "\n",
    "pickle_in = open('{}/{}/matches.pickle'.format(scene.dst_dir, ba_method),'rb')\n",
    "pairwise_matches = pickle.load(pickle_in)\n",
    "pickle_in = open('{}/{}/pairs_triangulation.pickle'.format(scene.dst_dir, ba_method),'rb')\n",
    "pairs_to_triangulate = pickle.load(pickle_in)\n",
    "pickle_in = open('{}/{}/filenames.pickle'.format(scene.dst_dir, ba_method),'rb')\n",
    "myimages = pickle.load(pickle_in)\n",
    "\n",
    "\n",
    "#forbbiden_pairs = [(1,12), (12,16)]\n",
    "#if len(forbbiden_pairs) >0:\n",
    "#    pairs_to_triangulate = list(set(pairs_to_triangulate) - set(forbbiden_pairs))\n",
    "\n",
    "#allowed_im_indices = [14, 15, 16, 17, 18, 19, 20]\n",
    "#allowed_pairs = [(im_i, im_j) for im_i in allowed_im_indices for im_j in allowed_im_indices if im_i != im_j and im_i<im_j]\n",
    "\n",
    "#allowed_pairs = [(1,12), (12,16)]\n",
    "#pairs_to_triangulate = list(set(pairs_to_triangulate).intersection(set(allowed_pairs)))\n",
    "\n",
    "\n",
    "features = []\n",
    "for fn in myimages:\n",
    "    f_id = os.path.splitext(os.path.basename(fn))[0]\n",
    "    features.append(pickle.load(open('{}/{}/features/{}.pickle'.format(scene.dst_dir, ba_method, f_id),'rb')))\n",
    "    \n",
    "from feature_tracks.ft_utils import feature_tracks_from_pairwise_matches\n",
    "C, _ = feature_tracks_from_pairwise_matches(features, pairwise_matches, pairs_to_triangulate)\n",
    "\n",
    "print('Using {} feature tracks\\n'.format(C.shape))\n",
    "\n",
    "print('pairs to triangulate:', pairs_to_triangulate)"
   ]
  },
  {
   "cell_type": "code",
   "execution_count": 17,
   "metadata": {
    "scrolled": false
   },
   "outputs": [
    {
     "name": "stdout",
     "output_type": "stream",
     "text": [
      "Loading 101 image rpcs / 101\n",
      "\n",
      "Loading 101 image rpcs / 101\n",
      "\n",
      "Loading 101 image crops / 101\n",
      "\n",
      "Approximating RPCs as Perspective projection matrices\n",
      "101 projection matrices / 101 (0 err)\n",
      "Done!\n",
      "\n",
      "Approximating RPCs as Perspective projection matrices\n",
      "101 projection matrices / 101 (0 err)\n",
      "Done!\n",
      "\n",
      "00: avg init err 0.44, avg ba err 0.31       20190128_204710_ssc6d1_0014_basic_l1a_panchromatic_dn.tif\n",
      "01: avg init err 0.56, avg ba err 0.33       20190128_204710_ssc6d3_0005_basic_l1a_panchromatic_dn.tif\n",
      "02: avg init err 0.47, avg ba err 0.33       20190128_204710_ssc6d1_0010_basic_l1a_panchromatic_dn.tif\n",
      "03: avg init err 1.39, avg ba err 1.33       20190128_204710_ssc6d2_0017_basic_l1a_panchromatic_dn.tif\n",
      "04: avg init err 0.63, avg ba err 0.34       20190128_204710_ssc6d2_0013_basic_l1a_panchromatic_dn.tif\n",
      "05: avg init err 0.39, avg ba err 0.28       20190128_204710_ssc6d1_0004_basic_l1a_panchromatic_dn.tif\n",
      "06: avg init err 0.51, avg ba err 0.34       20190128_204710_ssc6d3_0006_basic_l1a_panchromatic_dn.tif\n",
      "07: avg init err 0.56, avg ba err 0.38       20190128_204710_ssc6d1_0013_basic_l1a_panchromatic_dn.tif\n",
      "08: avg init err 0.50, avg ba err 0.38       20190128_204710_ssc6d1_0012_basic_l1a_panchromatic_dn.tif\n",
      "09: avg init err 0.39, avg ba err 0.31       20190128_204710_ssc6d1_0005_basic_l1a_panchromatic_dn.tif\n",
      "10: avg init err 0.62, avg ba err 0.36       20190128_204710_ssc6d3_0010_basic_l1a_panchromatic_dn.tif\n",
      "11: avg init err 0.55, avg ba err 0.30       20190128_204710_ssc6d2_0009_basic_l1a_panchromatic_dn.tif\n",
      "12: avg init err 3.20, avg ba err 3.09       20190128_204710_ssc6d2_0015_basic_l1a_panchromatic_dn.tif\n",
      "13: avg init err 0.51, avg ba err 0.34       20190128_204710_ssc6d2_0016_basic_l1a_panchromatic_dn.tif\n",
      "14: avg init err 0.71, avg ba err 0.34       20190128_204710_ssc6d1_0007_basic_l1a_panchromatic_dn.tif\n",
      "15: avg init err 0.90, avg ba err 0.35       20190128_204710_ssc6d3_0007_basic_l1a_panchromatic_dn.tif\n",
      "16: avg init err 0.85, avg ba err 0.37       20190128_204710_ssc6d3_0012_basic_l1a_panchromatic_dn.tif\n",
      "17: avg init err 0.40, avg ba err 0.34       20190128_204710_ssc6d1_0009_basic_l1a_panchromatic_dn.tif\n",
      "18: avg init err 0.93, avg ba err 0.37       20190128_204710_ssc6d1_0008_basic_l1a_panchromatic_dn.tif\n",
      "19: avg init err 0.60, avg ba err 0.39       20190128_204710_ssc6d3_0014_basic_l1a_panchromatic_dn.tif\n",
      "20: avg init err 0.34, avg ba err 0.30       20190128_204710_ssc6d1_0006_basic_l1a_panchromatic_dn.tif\n",
      "21: avg init err 1.14, avg ba err 0.38       20190128_204710_ssc6d3_0011_basic_l1a_panchromatic_dn.tif\n",
      "22: avg init err 0.69, avg ba err 0.39       20190128_204710_ssc6d2_0012_basic_l1a_panchromatic_dn.tif\n",
      "23: avg init err 0.68, avg ba err 0.39       20190128_204710_ssc6d2_0011_basic_l1a_panchromatic_dn.tif\n",
      "24: avg init err 0.47, avg ba err 0.38       20190128_204710_ssc6d1_0011_basic_l1a_panchromatic_dn.tif\n",
      "25: avg init err 2.58, avg ba err 2.42       20190128_204710_ssc6d2_0010_basic_l1a_panchromatic_dn.tif\n",
      "26: avg init err 0.41, avg ba err 0.32       20190128_204710_ssc6d2_0008_basic_l1a_panchromatic_dn.tif\n",
      "27: avg init err 0.73, avg ba err 0.37       20190128_204710_ssc6d3_0008_basic_l1a_panchromatic_dn.tif\n",
      "28: avg init err 0.64, avg ba err 0.38       20190128_204710_ssc6d2_0014_basic_l1a_panchromatic_dn.tif\n",
      "29: avg init err 0.64, avg ba err 0.37       20190128_204710_ssc6d3_0013_basic_l1a_panchromatic_dn.tif\n",
      "30: avg init err 0.66, avg ba err 0.43       20190128_204710_ssc6d3_0009_basic_l1a_panchromatic_dn.tif\n",
      "31: avg init err 0.51, avg ba err 0.37       20190128_204744_ssc6d3_0008_basic_l1a_panchromatic_dn.tif\n",
      "32: avg init err 0.96, avg ba err 0.33       20190128_204744_ssc6d3_0015_basic_l1a_panchromatic_dn.tif\n",
      "33: avg init err 0.65, avg ba err 0.36       20190128_204744_ssc6d1_0012_basic_l1a_panchromatic_dn.tif\n",
      "34: avg init err 0.41, avg ba err 0.35       20190128_204744_ssc6d1_0007_basic_l1a_panchromatic_dn.tif\n",
      "35: avg init err 0.40, avg ba err 0.37       20190128_204744_ssc6d2_0021_basic_l1a_panchromatic_dn.tif\n",
      "36: avg init err 0.94, avg ba err 0.50       20190128_204744_ssc6d2_0015_basic_l1a_panchromatic_dn.tif\n",
      "37: avg init err 0.49, avg ba err 0.40       20190128_204744_ssc6d1_0017_basic_l1a_panchromatic_dn.tif\n",
      "38: avg init err 0.48, avg ba err 0.38       20190128_204744_ssc6d3_0006_basic_l1a_panchromatic_dn.tif\n",
      "39: avg init err 0.62, avg ba err 0.43       20190128_204744_ssc6d2_0018_basic_l1a_panchromatic_dn.tif\n",
      "40: avg init err 0.53, avg ba err 0.33       20190128_204744_ssc6d2_0010_basic_l1a_panchromatic_dn.tif\n",
      "41: avg init err 0.52, avg ba err 0.43       20190128_204744_ssc6d2_0017_basic_l1a_panchromatic_dn.tif\n",
      "42: avg init err 2.04, avg ba err 1.99       20190128_204744_ssc6d2_0020_basic_l1a_panchromatic_dn.tif\n",
      "43: avg init err 1.15, avg ba err 0.45       20190128_204744_ssc6d3_0011_basic_l1a_panchromatic_dn.tif\n",
      "44: avg init err 0.49, avg ba err 0.35       20190128_204744_ssc6d3_0017_basic_l1a_panchromatic_dn.tif\n",
      "45: avg init err 0.56, avg ba err 0.37       20190128_204744_ssc6d1_0018_basic_l1a_panchromatic_dn.tif\n",
      "46: avg init err 0.91, avg ba err 0.40       20190128_204744_ssc6d2_0013_basic_l1a_panchromatic_dn.tif\n",
      "47: avg init err 0.76, avg ba err 0.43       20190128_204744_ssc6d2_0016_basic_l1a_panchromatic_dn.tif\n",
      "48: avg init err 0.43, avg ba err 0.37       20190128_204744_ssc6d1_0008_basic_l1a_panchromatic_dn.tif\n",
      "49: avg init err 0.92, avg ba err 0.42       20190128_204744_ssc6d2_0014_basic_l1a_panchromatic_dn.tif\n",
      "50: avg init err 0.75, avg ba err 0.41       20190128_204744_ssc6d1_0013_basic_l1a_panchromatic_dn.tif\n",
      "51: avg init err 0.69, avg ba err 0.40       20190128_204744_ssc6d2_0012_basic_l1a_panchromatic_dn.tif\n",
      "52: avg init err 1.08, avg ba err 0.43       20190128_204744_ssc6d3_0010_basic_l1a_panchromatic_dn.tif\n",
      "53: avg init err 2.02, avg ba err 1.14       20190128_204744_ssc6d3_0009_basic_l1a_panchromatic_dn.tif\n",
      "54: avg init err 0.57, avg ba err 0.38       20190128_204744_ssc6d1_0016_basic_l1a_panchromatic_dn.tif\n",
      "55: avg init err 0.42, avg ba err 0.34       20190128_204744_ssc6d2_0011_basic_l1a_panchromatic_dn.tif\n",
      "56: avg init err 0.72, avg ba err 0.44       20190128_204744_ssc6d3_0012_basic_l1a_panchromatic_dn.tif\n",
      "57: avg init err 0.87, avg ba err 0.32       20190128_204744_ssc6d3_0007_basic_l1a_panchromatic_dn.tif\n",
      "58: avg init err 0.72, avg ba err 0.41       20190128_204744_ssc6d3_0013_basic_l1a_panchromatic_dn.tif\n",
      "59: avg init err 0.72, avg ba err 0.34       20190128_204744_ssc6d3_0016_basic_l1a_panchromatic_dn.tif\n",
      "60: avg init err 0.54, avg ba err 0.45       20190128_204744_ssc6d1_0015_basic_l1a_panchromatic_dn.tif\n",
      "61: avg init err 0.45, avg ba err 0.37       20190128_204744_ssc6d3_0018_basic_l1a_panchromatic_dn.tif\n",
      "62: avg init err 0.61, avg ba err 0.30       20190128_204744_ssc6d1_0009_basic_l1a_panchromatic_dn.tif\n",
      "63: avg init err 1.07, avg ba err 0.41       20190128_204744_ssc6d3_0014_basic_l1a_panchromatic_dn.tif\n",
      "64: avg init err 0.67, avg ba err 0.38       20190128_204744_ssc6d1_0014_basic_l1a_panchromatic_dn.tif\n",
      "65: avg init err 0.84, avg ba err 0.34       20190128_204744_ssc6d1_0010_basic_l1a_panchromatic_dn.tif\n",
      "66: avg init err 0.44, avg ba err 0.36       20190128_204744_ssc6d1_0006_basic_l1a_panchromatic_dn.tif\n",
      "67: avg init err 0.39, avg ba err 0.31       20190128_204744_ssc6d2_0022_basic_l1a_panchromatic_dn.tif\n",
      "68: avg init err 0.60, avg ba err 0.46       20190128_204744_ssc6d2_0019_basic_l1a_panchromatic_dn.tif\n",
      "69: avg init err 1.01, avg ba err 0.34       20190128_204744_ssc6d1_0011_basic_l1a_panchromatic_dn.tif\n",
      "70: avg init err 0.62, avg ba err 0.36       20190128_204819_ssc6d3_0013_basic_l1a_panchromatic_dn.tif\n",
      "71: avg init err 0.63, avg ba err 0.26       20190128_204819_ssc6d1_0009_basic_l1a_panchromatic_dn.tif\n",
      "72: avg init err 0.68, avg ba err 0.31       20190128_204819_ssc6d3_0012_basic_l1a_panchromatic_dn.tif\n",
      "73: avg init err 3.58, avg ba err 2.53       20190128_204819_ssc6d2_0011_basic_l1a_panchromatic_dn.tif\n",
      "74: avg init err 0.49, avg ba err 0.35       20190128_204819_ssc6d3_0014_basic_l1a_panchromatic_dn.tif\n",
      "75: avg init err 0.75, avg ba err 0.29       20190128_204819_ssc6d1_0007_basic_l1a_panchromatic_dn.tif\n",
      "76: avg init err 0.42, avg ba err 0.38       20190128_204819_ssc6d1_0014_basic_l1a_panchromatic_dn.tif\n",
      "77: avg init err 1.02, avg ba err 0.29       20190128_204819_ssc6d1_0008_basic_l1a_panchromatic_dn.tif\n",
      "78: avg init err 0.82, avg ba err 0.39       20190128_204819_ssc6d2_0010_basic_l1a_panchromatic_dn.tif\n",
      "79: avg init err 0.52, avg ba err 0.36       20190128_204819_ssc6d1_0005_basic_l1a_panchromatic_dn.tif\n",
      "80: avg init err 0.39, avg ba err 0.33       20190128_204819_ssc6d1_0006_basic_l1a_panchromatic_dn.tif\n",
      "81: avg init err 0.63, avg ba err 0.37       20190128_204819_ssc6d1_0011_basic_l1a_panchromatic_dn.tif\n",
      "82: avg init err 0.80, avg ba err 0.33       20190128_204819_ssc6d1_0010_basic_l1a_panchromatic_dn.tif\n",
      "83: avg init err 0.87, avg ba err 0.38       20190128_204819_ssc6d3_0010_basic_l1a_panchromatic_dn.tif\n",
      "84: avg init err 0.85, avg ba err 0.40       20190128_204819_ssc6d2_0013_basic_l1a_panchromatic_dn.tif\n",
      "85: avg init err 0.48, avg ba err 0.39       20190128_204819_ssc6d1_0013_basic_l1a_panchromatic_dn.tif\n",
      "86: avg init err 0.55, avg ba err 0.29       20190128_204819_ssc6d3_0005_basic_l1a_panchromatic_dn.tif\n",
      "87: avg init err 1.73, avg ba err 0.41       20190128_204819_ssc6d3_0008_basic_l1a_panchromatic_dn.tif\n",
      "88: avg init err 0.70, avg ba err 0.45       20190128_204819_ssc6d2_0015_basic_l1a_panchromatic_dn.tif\n",
      "89: avg init err 1.10, avg ba err 0.41       20190128_204819_ssc6d2_0012_basic_l1a_panchromatic_dn.tif\n",
      "90: avg init err 0.66, avg ba err 0.33       20190128_204819_ssc6d2_0014_basic_l1a_panchromatic_dn.tif\n",
      "91: avg init err 0.60, avg ba err 0.31       20190128_204819_ssc6d2_0009_basic_l1a_panchromatic_dn.tif\n",
      "92: avg init err 0.56, avg ba err 0.30       20190128_204819_ssc6d2_0008_basic_l1a_panchromatic_dn.tif\n",
      "93: avg init err 0.65, avg ba err 0.44       20190128_204819_ssc6d3_0009_basic_l1a_panchromatic_dn.tif\n",
      "94: avg init err 2.18, avg ba err 2.04       20190128_204819_ssc6d2_0016_basic_l1a_panchromatic_dn.tif\n",
      "95: avg init err 0.90, avg ba err 0.31       20190128_204819_ssc6d3_0011_basic_l1a_panchromatic_dn.tif\n",
      "96: avg init err 1.66, avg ba err 1.46       20190128_204819_ssc6d2_0018_basic_l1a_panchromatic_dn.tif\n",
      "97: avg init err 0.49, avg ba err 0.40       20190128_204819_ssc6d2_0017_basic_l1a_panchromatic_dn.tif\n",
      "98: avg init err 0.77, avg ba err 0.32       20190128_204819_ssc6d3_0007_basic_l1a_panchromatic_dn.tif\n",
      "99: avg init err 0.47, avg ba err 0.32       20190128_204819_ssc6d3_0006_basic_l1a_panchromatic_dn.tif\n",
      "100: avg init err 0.53, avg ba err 0.38       20190128_204819_ssc6d1_0012_basic_l1a_panchromatic_dn.tif\n",
      "\n",
      "Method: ba_global bundle adjustment\n",
      "-----------------------------------------------------------------\n",
      "\n",
      "avg init err per image: 0.79\n",
      "\n",
      "avg ba err per image: 0.49\n"
     ]
    }
   ],
   "source": [
    "eval_reprojection_error_from_rpcs(scene, myimages, ba_method, C, pairs_to_triangulate)"
   ]
  },
  {
   "cell_type": "code",
   "execution_count": 408,
   "metadata": {},
   "outputs": [
    {
     "name": "stdout",
     "output_type": "stream",
     "text": [
      "[R1 | t1] = [R2 | t2] @ [R21 | t21] ? True\n",
      "Found a rotation of 0.24595336226186001 degrees between both cameras\n",
      "\n"
     ]
    },
    {
     "data": {
      "text/plain": [
       "False"
      ]
     },
     "execution_count": 408,
     "metadata": {},
     "output_type": "execute_result"
    }
   ],
   "source": [
    "P1 = np.array([[ 4.85128086e-02, -8.83537890e-02,  1.40268335e-03,  3.66886552e+04],\n",
    "               [ 3.97942353e-02,  2.32994575e-02,  8.98703082e-02,  1.70862603e+04],\n",
    "               [-1.08059602e-07, -5.74392857e-08,  7.96691137e-08,  1.00000000e+00]])\n",
    "\n",
    "P2 =  np.array([[ 4.85869516e-02, -8.82992204e-02,  1.35108588e-03,  3.60184995e+04],\n",
    "                [ 3.95414376e-02,  2.31577511e-02,  9.00036459e-02,  1.90280930e+04],\n",
    "                [-1.08160881e-07, -5.78021362e-08,  7.91655350e-08,  1.00000000e+00]])\n",
    "\n",
    "from bundle_adjust import ba_utils\n",
    "\n",
    "Pr = ba_utils.relative_extrinsic_matrix_between_two_proj_matrices(P2, P1, verbose=True)\n",
    "\n",
    "np.allclose(P2, P1 @ Pr)"
   ]
  },
  {
   "cell_type": "code",
   "execution_count": 410,
   "metadata": {},
   "outputs": [],
   "source": [
    "from bundle_adjust import ba_core\n",
    "\n",
    "k1, r1, t1, o1 = ba_core.decompose_perspective_camera(P1)\n",
    "\n",
    "ext1 = np.hstack(( r1, t1[:, np.newaxis] ))"
   ]
  },
  {
   "cell_type": "code",
   "execution_count": 411,
   "metadata": {},
   "outputs": [
    {
     "data": {
      "text/plain": [
       "True"
      ]
     },
     "execution_count": 411,
     "metadata": {},
     "output_type": "execute_result"
    }
   ],
   "source": [
    "np.allclose( P1, k1 @ ext1)"
   ]
  },
  {
   "cell_type": "code",
   "execution_count": 412,
   "metadata": {},
   "outputs": [
    {
     "data": {
      "text/plain": [
       "True"
      ]
     },
     "execution_count": 412,
     "metadata": {},
     "output_type": "execute_result"
    }
   ],
   "source": [
    "np.allclose(P2, k2 @ ext1 @ Pr)"
   ]
  }
 ],
 "metadata": {
  "kernelspec": {
   "display_name": "Python 3",
   "language": "python",
   "name": "python3"
  },
  "language_info": {
   "codemirror_mode": {
    "name": "ipython",
    "version": 3
   },
   "file_extension": ".py",
   "mimetype": "text/x-python",
   "name": "python",
   "nbconvert_exporter": "python",
   "pygments_lexer": "ipython3",
   "version": "3.6.9"
  },
  "varInspector": {
   "cols": {
    "lenName": 16,
    "lenType": 16,
    "lenVar": 40
   },
   "kernels_config": {
    "python": {
     "delete_cmd_postfix": "",
     "delete_cmd_prefix": "del ",
     "library": "var_list.py",
     "varRefreshCmd": "print(var_dic_list())"
    },
    "r": {
     "delete_cmd_postfix": ") ",
     "delete_cmd_prefix": "rm(",
     "library": "var_list.r",
     "varRefreshCmd": "cat(var_dic_list()) "
    }
   },
   "position": {
    "height": "144.545px",
    "left": "1313.55px",
    "right": "20px",
    "top": "162px",
    "width": "350px"
   },
   "types_to_exclude": [
    "module",
    "function",
    "builtin_function_or_method",
    "instance",
    "_Feature"
   ],
   "window_display": false
  }
 },
 "nbformat": 4,
 "nbformat_minor": 2
}
