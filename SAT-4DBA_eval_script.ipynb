{
 "cells": [
  {
   "cell_type": "code",
   "execution_count": 1,
   "metadata": {},
   "outputs": [],
   "source": [
    "#%matplotlib notebook\n",
    "import sys\n",
    "import os\n",
    "import glob\n",
    "\n",
    "# Standard modules used through the notebook \n",
    "import numpy as np\n",
    "import matplotlib.pyplot as plt\n",
    "\n",
    "from PIL import Image\n",
    "\n",
    "from bundle_adjust import ba_timeseries\n",
    "import pickle\n",
    "\n",
    "# Display and interface settings (just for the notebook interface)\n",
    "%matplotlib inline\n",
    "%load_ext autoreload\n",
    "%autoreload 2\n",
    "np.set_printoptions(linewidth=150)"
   ]
  },
  {
   "cell_type": "markdown",
   "metadata": {},
   "source": [
    "### Check std single date (in the overlapping areas) and std along time"
   ]
  },
  {
   "cell_type": "code",
   "execution_count": 31,
   "metadata": {},
   "outputs": [
    {
     "name": "stdout",
     "output_type": "stream",
     "text": [
      "bUndle adjustment method: ba_global_12D_9k\n",
      "average median std per date: 0.51\n",
      "[0.24842024, 0.97477627, 0.597723, 0.45825958, 0.3293805, 0.42757988, 0.39956903, 0.57284033, 0.24034882, 0.88285255, 0.4516468, 0.584033]\n",
      "median std along time: 1.03\n"
     ]
    }
   ],
   "source": [
    "scene_name = 'RB_ZAF_0001'\n",
    "ba_method = 'ba_global_12D_9k'\n",
    "\n",
    "'''\n",
    "timeline_ids = ['s4_20190608T075318Z__s4_20190608T075352Z__s4_20190608T075428Z',\n",
    "                's4_20190617T075138Z__s4_20190617T075212Z__s4_20190617T075248Z',\n",
    "                's103_20190627T074821Z__s103_20190627T074854Z__s103_20190627T074931Z',\n",
    "                's106_20190629T104731Z__s106_20190629T104805Z__s106_20190629T104841Z',\n",
    "                's107_20190630T104349Z__s107_20190630T104424Z__s107_20190630T104459Z',]\n",
    "\n",
    "'''\n",
    "timeline_ids = ['s4_20190608T075318Z__s4_20190608T075352Z__s4_20190608T075428Z',\n",
    " 's4_20190617T075138Z__s4_20190617T075212Z__s4_20190617T075248Z',\n",
    " 's103_20190627T074821Z__s103_20190627T074854Z__s103_20190627T074931Z',\n",
    " 's106_20190629T104731Z__s106_20190629T104805Z__s106_20190629T104841Z',\n",
    " 's107_20190630T104349Z__s107_20190630T104424Z__s107_20190630T104459Z',\n",
    " 's106_20190709T103954Z__s106_20190709T104028Z__s106_20190709T104103Z',\n",
    " 's110_20190712T104057Z__s110_20190712T104131Z__s110_20190712T104207Z',\n",
    " 's3_20190717T082601Z__s3_20190717T082634Z__s3_20190717T082709Z',\n",
    " 's4_20190718T075551Z__s4_20190718T075625Z__s4_20190718T075701Z',\n",
    " 's103_20190719T075406Z__s103_20190719T075441Z__s103_20190719T075516Z',\n",
    " 's106_20190723T104750Z__s106_20190723T104823Z__s106_20190723T104859Z',\n",
    " 's107_20190729T104103Z__s107_20190729T104137Z__s107_20190729T104213Z']\n",
    "\n",
    "\n",
    "median_std_per_date = []\n",
    "for t_id in timeline_ids:\n",
    "    wdir = 'exp/{}/4D_ba_{}/warp/{}'.format(scene_name, ba_method, t_id)\n",
    "    fnames = glob.glob('{}/**/*.tif'.format(wdir), recursive=True)\n",
    "\n",
    "    stacked_warps = np.dstack([np.array(Image.open(fn)) for fn in fnames])\n",
    "    \n",
    "    counts_per_coord = np.sum(1*~np.isnan(stacked_warps), axis=2)\n",
    "    overlapping_coords_mask = counts_per_coord >= 2\n",
    "    \n",
    "    std_current_date = np.nanstd(stacked_warps, axis=2)\n",
    "    std_current_date[~overlapping_coords_mask] = np.nan\n",
    "    \n",
    "    median_std_per_date.append(np.nanmedian(std_current_date, axis=(0, 1)))\n",
    "    \n",
    "    out_fn = 'exp/{}/4D_ba_{}/4Dstats/std_per_date/{}.tif'.format(scene_name, ba_method, t_id)\n",
    "    os.makedirs(os.path.dirname(out_fn), exist_ok=True)\n",
    "    Image.fromarray(std_current_date).save(out_fn)\n",
    "    \n",
    "    #fig = plt.figure(figsize=(30,15))\n",
    "    #plt.imshow(np.nanstd(stacked_warps, axis=2));\n",
    "\n",
    "    \n",
    "    \n",
    "################\n",
    "# std along time\n",
    "################\n",
    "dsms_dir = 'exp/{}/4D_ba_{}/dsms'.format(scene_name, ba_method)\n",
    "stacked_dsms = np.dstack([np.array(Image.open(fn)) for fn in glob.glob(dsms_dir + '/*.tif')])\n",
    "counts_per_coord = np.sum(1*~np.isnan(stacked_dsms), axis=2)\n",
    "overlapping_coords_mask = counts_per_coord >= 2\n",
    "std_along_time = np.nanstd(stacked_dsms, axis=2)\n",
    "std_along_time[~overlapping_coords_mask] = np.nan\n",
    "\n",
    "stats4D_dir = 'exp/{}/4D_ba_{}/4Dstats'.format(scene_name, ba_method)\n",
    "os.makedirs(stats4D_dir, exist_ok=True)\n",
    "Image.fromarray(std_along_time).save('{}/std_along_time.tif'.format(stats4D_dir))\n",
    "\n",
    "\n",
    "print('bUndle adjustment method:', ba_method)\n",
    "\n",
    "print('average median std per date: {:.2f}'.format(np.mean(median_std_per_date)))\n",
    "\n",
    "print(median_std_per_date)\n",
    "\n",
    "print('median std along time: {:.2f}'.format(np.nanmedian(std_along_time, axis=(0, 1))))"
   ]
  },
  {
   "cell_type": "markdown",
   "metadata": {},
   "source": [
    "### Check reprojection error"
   ]
  },
  {
   "cell_type": "code",
   "execution_count": 3,
   "metadata": {},
   "outputs": [
    {
     "name": "stdout",
     "output_type": "stream",
     "text": [
      "#############################################################\n",
      "Loading scene RB_ZAF_0001...\n",
      "\n",
      "Found 85 different dates in the scene timeline\n",
      "\n",
      "Total images in timeline: 560\n",
      "Successfully loaded scene RB_ZAF_0001\n",
      "#############################################################\n",
      "\n",
      "\n",
      "Scene RB_ZAF_0001 characterized using the following example dsm:\n",
      "/home/carlo/dsms-timeseries-for-roger/RB_ZAF_0001/RB_ZAF_0001_dsms/s103_20190627T074821Z__s103_20190627T074854Z__s103_20190627T074931Z.tiff\n",
      "\n",
      "index  |  datetime             |  n_images\n",
      "__________________________________________\n",
      "\n",
      "0      |  2019-06-08 07:53:52  |  5       \n",
      "3      |  2019-06-17 07:51:38  |  9       \n",
      "6      |  2019-06-27 07:48:21  |  7       \n",
      "7      |  2019-06-29 10:47:31  |  8       \n",
      "8      |  2019-06-30 10:44:24  |  4       \n",
      "9      |  2019-07-09 10:39:54  |  8       \n",
      "11     |  2019-07-12 10:41:31  |  5       \n",
      "12     |  2019-07-17 08:26:01  |  8       \n",
      "13     |  2019-07-18 07:56:25  |  6       \n",
      "14     |  2019-07-19 07:54:06  |  7       \n",
      "15     |  2019-07-23 10:47:50  |  8       \n",
      "16     |  2019-07-29 10:41:03  |  9       \n",
      "__________________________________________\n",
      "\n",
      "                                  84 total\n",
      "\n",
      "\n"
     ]
    }
   ],
   "source": [
    "# load scene and timeline indices\n",
    "\n",
    "scene_name = 'RB_ZAF_0001'\n",
    "\n",
    "input_dir = '/home/carlo/dsms-timeseries-for-roger'\n",
    "output_dir = 'exp'\n",
    "\n",
    "scene = ba_timeseries.Scene(input_dir, output_dir, scene_name, 'v1', \\\n",
    "                            compute_aoi_masks=True, use_aoi_masks_to_equalize_crops=False)\n",
    "#scene.display_aoi()\n",
    "\n",
    "source_dsms_dir = '{}/{}_dsms'.format(scene.src_dir, scene_name)\n",
    "example_dsm_fname = os.path.join(source_dsms_dir, \\\n",
    "                                 's103_20190627T074821Z__s103_20190627T074854Z__s103_20190627T074931Z.tiff')\n",
    "scene.characterize_from_example_dsm(example_dsm_fname)\n",
    "#scene.display_dsm_mask()\n",
    "\n",
    "timeline_indices = [0, 3, 6, 7, 8, 9, 11, 12, 13, 14, 15, 16]\n",
    "\n",
    "timeline_indices = timeline_indices[:3]\n",
    "\n",
    "scene.get_timeline_attributes(timeline_indices, ['datetime', 'n_images'])"
   ]
  },
  {
   "cell_type": "code",
   "execution_count": 5,
   "metadata": {},
   "outputs": [],
   "source": [
    "def eval_reprojection_error_from_rpcs(scene, myimages, ba_method, C, pairs_to_triangulate):\n",
    "    \n",
    "    \n",
    "    # load filenames and rpcs\n",
    "    rpcs_init_dir = '{}/RPC_init'.format(scene.dst_dir)\n",
    "    rpcs_init = ba_timeseries.load_rpcs_from_dir(myimages, rpcs_init_dir, suffix='RPC', verbose=True)\n",
    "    rpcs_adj_dir = '{}/{}/RPC_adj'.format(scene.dst_dir, ba_method)\n",
    "    rpcs_adj = ba_timeseries.load_rpcs_from_dir(myimages, rpcs_adj_dir, suffix='RPC_adj', verbose=True)\n",
    "    \n",
    "    # load image crops\n",
    "    mycrops = ba_timeseries.load_image_crops(myimages, verbose=True)\n",
    "    \n",
    "    # init ba\n",
    "    cam_model = 'Perspective'\n",
    "    ba_input_data = {}\n",
    "    ba_input_data['input_dir'] = scene.dst_dir\n",
    "    ba_input_data['output_dir'] = scene.dst_dir\n",
    "    ba_input_data['n_new'] = len(myimages)\n",
    "    ba_input_data['n_adj'] = 0\n",
    "    ba_input_data['image_fnames'] = myimages\n",
    "    ba_input_data['crops'] = mycrops\n",
    "    ba_input_data['masks'] = None\n",
    "    ba_input_data['rpcs'] = rpcs_init\n",
    "    ba_input_data['cam_model'] = cam_model\n",
    "    ba_input_data['aoi'] = scene.aoi_lonlat\n",
    "    from bundle_adjust.ba_pipeline import BundleAdjustmentPipeline\n",
    "    ba_pipeline = BundleAdjustmentPipeline(ba_input_data)\n",
    "    \n",
    "    # approximate rpcs as proj matrices\n",
    "    from bundle_adjust.ba_core import approximate_rpcs_as_proj_matrices\n",
    "    P_crop_ba = approximate_rpcs_as_proj_matrices(rpcs_adj, mycrops, scene.aoi_lonlat, cam_model)\n",
    "    ba_pipeline.P_crop_ba = P_crop_ba\n",
    "        \n",
    "    # init pts 3D\n",
    "    from bundle_adjust.ba_triangulation import initialize_3d_points\n",
    "    pts_3d = initialize_3d_points(ba_pipeline.input_P, C, pairs_to_triangulate, cam_model)\n",
    "    pts_3d_ba = initialize_3d_points(P_crop_ba, C, pairs_to_triangulate, cam_model)\n",
    "        \n",
    "    # compute reprojection error\n",
    "    ba_pipeline.pts_3d = pts_3d\n",
    "    ba_pipeline.pts_3d_ba = pts_3d_ba\n",
    "    ba_pipeline.C = C\n",
    "    avg_init, avg_ba = [], []\n",
    "    for im_idx in range(len(myimages)):\n",
    "        e_init, e_ba, _, _, _ = ba_pipeline.compute_reproj_err_per_image(im_idx)\n",
    "        avg_init.append(np.mean(e_init))\n",
    "        avg_ba.append(np.mean(e_ba))\n",
    "        \n",
    "        #ba_pipeline.analyse_reproj_err_particular_image(im_idx, plot=True)\n",
    "        \n",
    "        print('{:02}: avg init err {:.2f}, avg ba err {:.2f}'.format(im_idx, avg_init[-1], avg_ba[-1]))\n",
    "        \n",
    "    \n",
    "    print('\\nMethod: {} bundle adjustment'.format(ba_method))\n",
    "    print('-----------------------------------------------------------------')\n",
    "    print('\\navg init err per image: {:.2f}'.format(np.mean(avg_init)))\n",
    "    print('\\navg ba err per image: {:.2f}'.format(np.mean(avg_ba)))"
   ]
  },
  {
   "cell_type": "code",
   "execution_count": 26,
   "metadata": {
    "scrolled": false
   },
   "outputs": [
    {
     "name": "stdout",
     "output_type": "stream",
     "text": [
      "C.shape before baseline check (168, 62067)\n",
      "C.shape after baseline check (168, 29968)\n",
      "Using (168, 29968) feature tracks\n",
      "\n",
      "pairs to triangulate: [(1, 3), (2, 3), (1, 4), (0, 4), (9, 12), (6, 8), (7, 11), (10, 11), (6, 9), (5, 10), (7, 8), (8, 12), (7, 10), (7, 12), (10, 12), (8, 13), (5, 11), (6, 13), (6, 12), (7, 9), (15, 16), (15, 17), (16, 20), (18, 20), (14, 20), (15, 19), (14, 19), (15, 20), (14, 18), (16, 19), (14, 16), (17, 19), (22, 23), (23, 28), (24, 26), (25, 27), (25, 26), (22, 25), (21, 27), (22, 26), (23, 26), (21, 26), (24, 27), (21, 25), (21, 24), (22, 28), (30, 31), (29, 32), (29, 31), (34, 35), (37, 40), (34, 36), (35, 39), (37, 39), (33, 40), (33, 39), (34, 38), (35, 38), (34, 39), (36, 39), (33, 37), (36, 40), (33, 36), (41, 44), (42, 44), (43, 45), (42, 45), (48, 53), (49, 51), (47, 49), (48, 52), (50, 52), (50, 53), (46, 53), (47, 50), (46, 52), (47, 51), (46, 50), (49, 53), (46, 48), (47, 53), (55, 59), (55, 57), (54, 59), (54, 58), (56, 59), (56, 58), (61, 63), (62, 66), (64, 66), (64, 65), (61, 64), (60, 66), (61, 65), (61, 66), (60, 64), (60, 62), (63, 65), (71, 74), (68, 70), (69, 73), (71, 72), (68, 71), (67, 73), (68, 72), (67, 72), (70, 73), (68, 74), (67, 70), (67, 69), (70, 72), (79, 82), (76, 78), (79, 83), (80, 81), (77, 83), (75, 82), (76, 81), (77, 78), (75, 83), (77, 82), (78, 83), (76, 80), (76, 83), (78, 81), (75, 79), (77, 79), (39, 59), (59, 70), (1, 39), (7, 25), (12, 15), (3, 33), (15, 29), (16, 61), (31, 67), (26, 39), (15, 66), (33, 83), (1, 59), (25, 61), (56, 83), (42, 59), (59, 77), (44, 70), (66, 70), (29, 46), (16, 39), (29, 67), (16, 56), (31, 56), (26, 77), (15, 67), (33, 67), (39, 77), (25, 83), (56, 61), (42, 83), (44, 77), (7, 42), (3, 42), (16, 46), (12, 33), (15, 53), (7, 66), (39, 53), (29, 66), (53, 67), (16, 67), (31, 61), (46, 56), (26, 56), (33, 56), (3, 67), (25, 67), (1, 53), (3, 46), (12, 42), (7, 59), (53, 83), (1, 67), (25, 46), (46, 77), (3, 56), (44, 56), (12, 77), (3, 15), (1, 33), (7, 26), (31, 70), (26, 33), (15, 59), (53, 61), (39, 61), (1, 66), (25, 66), (56, 77), (42, 66), (3, 61), (1, 15), (44, 61), (66, 67), (16, 33), (12, 25), (15, 39), (16, 26), (7, 83), (29, 83), (15, 25), (16, 59), (31, 77), (26, 70), (15, 70), (33, 70), (39, 70), (25, 59), (42, 77), (1, 12), (3, 7), (29, 44), (12, 29), (15, 44), (39, 46), (29, 61), (16, 83), (33, 53), (61, 83), (25, 33), (33, 61), (3, 70), (12, 61), (1, 46), (7, 39), (29, 39), (16, 44), (31, 33), (7, 56), (26, 46), (53, 77), (33, 44), (1, 83), (25, 53), (46, 83), (42, 53), (70, 83), (3, 77), (44, 46), (67, 77), (12, 70), (3, 16), (7, 31), (26, 29), (15, 56), (53, 56), (39, 56), (1, 61), (25, 44), (42, 61), (1, 26), (59, 67), (3, 25), (1, 31), (7, 16), (12, 16), (31, 42), (15, 31), (16, 25), (29, 77), (15, 26), (16, 66), (26, 67), (15, 61), (39, 67), (56, 67), (1, 7), (44, 67), (7, 53), (66, 77), (29, 53), (16, 31), (31, 46), (15, 42), (7, 70), (39, 42), (16, 77), (25, 39), (26, 83), (15, 83), (46, 66), (33, 66), (25, 77), (56, 66), (42, 67), (12, 56), (59, 61), (7, 44), (29, 33), (16, 53), (29, 59), (26, 42), (53, 70), (16, 70), (33, 42), (61, 70), (1, 77), (25, 31), (26, 61), (46, 59), (42, 46), (33, 59), (70, 77), (67, 83), (12, 67), (1, 44), (7, 29), (3, 29), (12, 46)]\n"
     ]
    }
   ],
   "source": [
    "ba_method = 'ba_out-of-core_12D_9k' #'out-of-core'\n",
    "\n",
    "pickle_in = open('{}/{}/matches.pickle'.format(scene.dst_dir, ba_method),'rb')\n",
    "pairwise_matches = pickle.load(pickle_in)\n",
    "pickle_in = open('{}/{}/pairs_triangulation.pickle'.format(scene.dst_dir, ba_method),'rb')\n",
    "pairs_to_triangulate = pickle.load(pickle_in)\n",
    "pickle_in = open('{}/{}/filenames.pickle'.format(scene.dst_dir, ba_method),'rb')\n",
    "myimages = pickle.load(pickle_in)\n",
    "\n",
    "\n",
    "#forbbiden_pairs = [(1,12), (12,16)]\n",
    "#if len(forbbiden_pairs) >0:\n",
    "#    pairs_to_triangulate = list(set(pairs_to_triangulate) - set(forbbiden_pairs))\n",
    "\n",
    "#allowed_im_indices = [14, 15, 16, 17, 18, 19, 20]\n",
    "#allowed_pairs = [(im_i, im_j) for im_i in allowed_im_indices for im_j in allowed_im_indices if im_i != im_j and im_i<im_j]\n",
    "\n",
    "#allowed_pairs = [(1,12), (12,16)]\n",
    "#pairs_to_triangulate = list(set(pairs_to_triangulate).intersection(set(allowed_pairs)))\n",
    "\n",
    "\n",
    "features = []\n",
    "for fn in myimages:\n",
    "    f_id = os.path.splitext(os.path.basename(fn))[0]\n",
    "    features.append(pickle.load(open('{}/{}/features/{}.pickle'.format(scene.dst_dir, ba_method, f_id),'rb')))\n",
    "    \n",
    "from feature_tracks.ft_utils import feature_tracks_from_pairwise_matches\n",
    "C, _ = feature_tracks_from_pairwise_matches(features, pairwise_matches, pairs_to_triangulate)\n",
    "\n",
    "print('Using {} feature tracks\\n'.format(C.shape))\n",
    "\n",
    "print('pairs to triangulate:', pairs_to_triangulate)"
   ]
  },
  {
   "cell_type": "code",
   "execution_count": 27,
   "metadata": {
    "scrolled": false
   },
   "outputs": [
    {
     "name": "stdout",
     "output_type": "stream",
     "text": [
      "Loading 84 image rpcs / 84\n",
      "\n",
      "Loading 84 image rpcs / 84\n",
      "\n",
      "Loading 84 image crops / 84\n",
      "\n",
      "Approximating RPCs as Perspective projection matrices\n",
      "84 projection matrices / 84 (0 err)\n",
      "Done!\n",
      "\n",
      "Approximating RPCs as Perspective projection matrices\n",
      "84 projection matrices / 84 (0 err)\n",
      "Done!\n",
      "\n",
      "00: avg init err 0.94, avg ba err 0.46\n",
      "01: avg init err 1.46, avg ba err 0.57\n",
      "02: avg init err 4.50, avg ba err 0.50\n",
      "03: avg init err 6.62, avg ba err 0.52\n",
      "04: avg init err 0.52, avg ba err 0.38\n",
      "05: avg init err 0.96, avg ba err 0.50\n",
      "06: avg init err 1.37, avg ba err 0.78\n",
      "07: avg init err 2.08, avg ba err 0.80\n",
      "08: avg init err 1.15, avg ba err 0.39\n",
      "09: avg init err 1.19, avg ba err 0.48\n",
      "10: avg init err 0.80, avg ba err 0.32\n",
      "11: avg init err 0.61, avg ba err 0.30\n",
      "12: avg init err 1.25, avg ba err 0.56\n",
      "13: avg init err 0.94, avg ba err 0.34\n",
      "14: avg init err 1.22, avg ba err 0.41\n",
      "15: avg init err 1.42, avg ba err 0.64\n",
      "16: avg init err 1.05, avg ba err 0.46\n",
      "17: avg init err 1.33, avg ba err 0.43\n",
      "18: avg init err 0.92, avg ba err 0.33\n",
      "19: avg init err 1.01, avg ba err 0.39\n",
      "20: avg init err 0.71, avg ba err 0.36\n",
      "21: avg init err 1.14, avg ba err 0.56\n",
      "22: avg init err 1.03, avg ba err 0.39\n",
      "23: avg init err 0.72, avg ba err 0.36\n",
      "24: avg init err 1.90, avg ba err 0.38\n",
      "25: avg init err 1.37, avg ba err 0.62\n",
      "26: avg init err 1.40, avg ba err 0.45\n",
      "27: avg init err 1.24, avg ba err 0.33\n",
      "28: avg init err 0.88, avg ba err 0.29\n",
      "29: avg init err 2.16, avg ba err 0.55\n",
      "30: avg init err 0.88, avg ba err 0.60\n",
      "31: avg init err 1.31, avg ba err 0.49\n",
      "32: avg init err 1.20, avg ba err 0.33\n",
      "33: avg init err 2.29, avg ba err 0.52\n",
      "34: avg init err 0.71, avg ba err 0.32\n",
      "35: avg init err 0.79, avg ba err 0.29\n",
      "36: avg init err 1.35, avg ba err 0.54\n",
      "37: avg init err 0.84, avg ba err 0.37\n",
      "38: avg init err 0.58, avg ba err 0.26\n",
      "39: avg init err 1.15, avg ba err 0.47\n",
      "40: avg init err 0.71, avg ba err 0.29\n",
      "41: avg init err 1.94, avg ba err 0.43\n",
      "42: avg init err 1.26, avg ba err 0.66\n",
      "43: avg init err 0.76, avg ba err 0.41\n",
      "44: avg init err 2.98, avg ba err 0.58\n",
      "45: avg init err 0.92, avg ba err 0.36\n",
      "46: avg init err 1.27, avg ba err 0.49\n",
      "47: avg init err 1.76, avg ba err 0.48\n",
      "48: avg init err 0.97, avg ba err 0.33\n",
      "49: avg init err 1.05, avg ba err 0.37\n",
      "50: avg init err 1.48, avg ba err 0.51\n",
      "51: avg init err 0.93, avg ba err 0.39\n",
      "52: avg init err 1.07, avg ba err 0.29\n",
      "53: avg init err 2.38, avg ba err 0.66\n",
      "54: avg init err 4.26, avg ba err 0.34\n",
      "55: avg init err 0.81, avg ba err 0.46\n",
      "56: avg init err 1.53, avg ba err 0.53\n",
      "57: avg init err 0.54, avg ba err 0.27\n",
      "58: avg init err 3.39, avg ba err 0.22\n",
      "59: avg init err 1.45, avg ba err 0.59\n",
      "60: avg init err 0.59, avg ba err 0.26\n",
      "61: avg init err 1.21, avg ba err 0.50\n",
      "62: avg init err 0.94, avg ba err 0.71\n",
      "63: avg init err 1.43, avg ba err 0.43\n",
      "64: avg init err 1.17, avg ba err 0.65\n",
      "65: avg init err 0.78, avg ba err 0.29\n",
      "66: avg init err 1.11, avg ba err 0.58\n",
      "67: avg init err 1.20, avg ba err 0.50\n",
      "68: avg init err 1.01, avg ba err 0.35\n",
      "69: avg init err 1.15, avg ba err 0.37\n",
      "70: avg init err 2.13, avg ba err 0.62\n",
      "71: avg init err 1.26, avg ba err 0.32\n",
      "72: avg init err 1.31, avg ba err 0.51\n",
      "73: avg init err 0.84, avg ba err 0.35\n",
      "74: avg init err 0.59, avg ba err 0.25\n",
      "75: avg init err 0.82, avg ba err 0.58\n",
      "76: avg init err 0.97, avg ba err 0.33\n",
      "77: avg init err 1.04, avg ba err 0.56\n",
      "78: avg init err 1.06, avg ba err 0.47\n",
      "79: avg init err 0.73, avg ba err 0.52\n",
      "80: avg init err 1.71, avg ba err 0.32\n",
      "81: avg init err 1.10, avg ba err 0.31\n",
      "82: avg init err 0.63, avg ba err 0.51\n",
      "83: avg init err 1.59, avg ba err 0.50\n",
      "\n",
      "Method: ba_out-of-core_12D_9k bundle adjustment\n",
      "-----------------------------------------------------------------\n",
      "\n",
      "avg init err per image: 1.34\n",
      "\n",
      "avg ba err per image: 0.45\n"
     ]
    }
   ],
   "source": [
    "eval_reprojection_error_from_rpcs(scene, myimages, ba_method, C, pairs_to_triangulate)"
   ]
  },
  {
   "cell_type": "code",
   "execution_count": 408,
   "metadata": {},
   "outputs": [
    {
     "name": "stdout",
     "output_type": "stream",
     "text": [
      "[R1 | t1] = [R2 | t2] @ [R21 | t21] ? True\n",
      "Found a rotation of 0.24595336226186001 degrees between both cameras\n",
      "\n"
     ]
    },
    {
     "data": {
      "text/plain": [
       "False"
      ]
     },
     "execution_count": 408,
     "metadata": {},
     "output_type": "execute_result"
    }
   ],
   "source": [
    "P1 = np.array([[ 4.85128086e-02, -8.83537890e-02,  1.40268335e-03,  3.66886552e+04],\n",
    "               [ 3.97942353e-02,  2.32994575e-02,  8.98703082e-02,  1.70862603e+04],\n",
    "               [-1.08059602e-07, -5.74392857e-08,  7.96691137e-08,  1.00000000e+00]])\n",
    "\n",
    "P2 =  np.array([[ 4.85869516e-02, -8.82992204e-02,  1.35108588e-03,  3.60184995e+04],\n",
    "                [ 3.95414376e-02,  2.31577511e-02,  9.00036459e-02,  1.90280930e+04],\n",
    "                [-1.08160881e-07, -5.78021362e-08,  7.91655350e-08,  1.00000000e+00]])\n",
    "\n",
    "from bundle_adjust import ba_utils\n",
    "\n",
    "Pr = ba_utils.relative_extrinsic_matrix_between_two_proj_matrices(P2, P1, verbose=True)\n",
    "\n",
    "np.allclose(P2, P1 @ Pr)"
   ]
  },
  {
   "cell_type": "code",
   "execution_count": 410,
   "metadata": {},
   "outputs": [],
   "source": [
    "from bundle_adjust import ba_core\n",
    "\n",
    "k1, r1, t1, o1 = ba_core.decompose_perspective_camera(P1)\n",
    "\n",
    "ext1 = np.hstack(( r1, t1[:, np.newaxis] ))"
   ]
  },
  {
   "cell_type": "code",
   "execution_count": 411,
   "metadata": {},
   "outputs": [
    {
     "data": {
      "text/plain": [
       "True"
      ]
     },
     "execution_count": 411,
     "metadata": {},
     "output_type": "execute_result"
    }
   ],
   "source": [
    "np.allclose( P1, k1 @ ext1)"
   ]
  },
  {
   "cell_type": "code",
   "execution_count": null,
   "metadata": {},
   "outputs": [],
   "source": []
  },
  {
   "cell_type": "code",
   "execution_count": 412,
   "metadata": {},
   "outputs": [
    {
     "data": {
      "text/plain": [
       "True"
      ]
     },
     "execution_count": 412,
     "metadata": {},
     "output_type": "execute_result"
    }
   ],
   "source": [
    "np.allclose(P2, k2 @ ext1 @ Pr)"
   ]
  }
 ],
 "metadata": {
  "kernelspec": {
   "display_name": "Python 3",
   "language": "python",
   "name": "python3"
  },
  "language_info": {
   "codemirror_mode": {
    "name": "ipython",
    "version": 3
   },
   "file_extension": ".py",
   "mimetype": "text/x-python",
   "name": "python",
   "nbconvert_exporter": "python",
   "pygments_lexer": "ipython3",
   "version": "3.6.9"
  },
  "varInspector": {
   "cols": {
    "lenName": 16,
    "lenType": 16,
    "lenVar": 40
   },
   "kernels_config": {
    "python": {
     "delete_cmd_postfix": "",
     "delete_cmd_prefix": "del ",
     "library": "var_list.py",
     "varRefreshCmd": "print(var_dic_list())"
    },
    "r": {
     "delete_cmd_postfix": ") ",
     "delete_cmd_prefix": "rm(",
     "library": "var_list.r",
     "varRefreshCmd": "cat(var_dic_list()) "
    }
   },
   "position": {
    "height": "144.545px",
    "left": "1313.55px",
    "right": "20px",
    "top": "162px",
    "width": "350px"
   },
   "types_to_exclude": [
    "module",
    "function",
    "builtin_function_or_method",
    "instance",
    "_Feature"
   ],
   "window_display": false
  }
 },
 "nbformat": 4,
 "nbformat_minor": 2
}
